{
 "cells": [
  {
   "cell_type": "markdown",
   "metadata": {},
   "source": [
    "# Packages"
   ]
  },
  {
   "cell_type": "markdown",
   "metadata": {},
   "source": [
    "## Global Packages"
   ]
  },
  {
   "cell_type": "code",
   "execution_count": 1,
   "metadata": {},
   "outputs": [],
   "source": [
    "import os\n",
    "os.environ['TF_CPP_MIN_LOG_LEVEL'] = '2'"
   ]
  },
  {
   "cell_type": "code",
   "execution_count": 2,
   "metadata": {},
   "outputs": [
    {
     "name": "stdout",
     "output_type": "stream",
     "text": [
      "WARNING:tensorflow:From c:\\Users\\vX\\Desktop\\env\\lib\\site-packages\\keras\\src\\losses.py:2976: The name tf.losses.sparse_softmax_cross_entropy is deprecated. Please use tf.compat.v1.losses.sparse_softmax_cross_entropy instead.\n",
      "\n"
     ]
    }
   ],
   "source": [
    "import sys\n",
    "import json\n",
    "import wave\n",
    "import time\n",
    "import pyaudio\n",
    "import librosa\n",
    "import pathlib\n",
    "import numpy as np\n",
    "import pandas as pd\n",
    "import seaborn as sns\n",
    "import tensorflow as tf\n",
    "import matplotlib.pyplot as plt\n",
    "from IPython.display import Audio\n",
    "from tensorflow.keras import layers, models\n",
    "from tensorflow.keras.callbacks import EarlyStopping\n",
    "from sklearn.metrics import precision_score, recall_score, f1_score, accuracy_score"
   ]
  },
  {
   "cell_type": "markdown",
   "metadata": {},
   "source": [
    "## Constants"
   ]
  },
  {
   "cell_type": "code",
   "execution_count": 3,
   "metadata": {},
   "outputs": [],
   "source": [
    "SEED = 42\n",
    "BATCH_SIZE = 32\n",
    "SAMPLE_RATE = 16000\n",
    "VALIDATION_SPLIT = 0.2"
   ]
  },
  {
   "cell_type": "markdown",
   "metadata": {},
   "source": [
    "# Path to the datasets\n",
    "\n",
    "The dataset's audio clips are of 6 classes and stored in 6 folders corresponding to each speech command: \n",
    "- `ddyo`- `kkono` - `mu maaso` - `emabega` - `yimirira` - `unknown`"
   ]
  },
  {
   "cell_type": "code",
   "execution_count": 4,
   "metadata": {},
   "outputs": [],
   "source": [
    "train_data_dir = pathlib.Path('Dataset/Train')\n",
    "test_data_dir = pathlib.Path('Dataset/Test')"
   ]
  },
  {
   "cell_type": "markdown",
   "metadata": {},
   "source": [
    "# Labels"
   ]
  },
  {
   "cell_type": "code",
   "execution_count": 5,
   "metadata": {},
   "outputs": [],
   "source": [
    "def list_directory_contents(directory, label):\n",
    "    contents = np.array(tf.io.gfile.listdir(str(directory)))\n",
    "    print(f'{label} commands labels: {contents}')\n",
    "    return contents"
   ]
  },
  {
   "cell_type": "code",
   "execution_count": 6,
   "metadata": {},
   "outputs": [
    {
     "name": "stdout",
     "output_type": "stream",
     "text": [
      "Train commands labels: ['gaali' 'no_gaali']\n",
      "Test commands labels: ['gaali' 'no_gaali']\n"
     ]
    }
   ],
   "source": [
    "train_commands = list_directory_contents(train_data_dir, 'Train')\n",
    "test_commands = list_directory_contents(test_data_dir, 'Test')"
   ]
  },
  {
   "cell_type": "markdown",
   "metadata": {},
   "source": [
    "# Load sample audio files"
   ]
  },
  {
   "cell_type": "code",
   "execution_count": 7,
   "metadata": {},
   "outputs": [],
   "source": [
    "gaali_file_path = os.path.join(train_data_dir, 'gaali', 'gaali_001.wav')\n",
    "no_gaali_file_path = os.path.join(train_data_dir, 'no_gaali', 'no_gaali_001.wav')\n",
    "\n",
    "file_paths = [gaali_file_path, no_gaali_file_path]"
   ]
  },
  {
   "cell_type": "markdown",
   "metadata": {},
   "source": [
    "# Dataset Preparaption"
   ]
  },
  {
   "cell_type": "markdown",
   "metadata": {},
   "source": [
    "## Train and validation Datasets"
   ]
  },
  {
   "cell_type": "code",
   "execution_count": 8,
   "metadata": {},
   "outputs": [],
   "source": [
    "# Function to create train and validation audio datasets\n",
    "\n",
    "def create_train_audio_dataset(data_dir, batch_size=BATCH_SIZE, validation_split=VALIDATION_SPLIT, seed=SEED, output_sequence_length=SAMPLE_RATE):\n",
    "    train_ds, val_ds = tf.keras.utils.audio_dataset_from_directory(\n",
    "        directory=data_dir,\n",
    "        batch_size=batch_size,\n",
    "        validation_split=validation_split,\n",
    "        seed=seed,\n",
    "        output_sequence_length=output_sequence_length,\n",
    "        subset='both'\n",
    "    )\n",
    "\n",
    "    label_names = np.array(train_ds.class_names)\n",
    "\n",
    "    def squeeze(audio, labels):\n",
    "        audio = tf.squeeze(audio, axis=-1)\n",
    "        return audio, labels\n",
    "\n",
    "    train_ds = train_ds.map(squeeze, tf.data.AUTOTUNE)\n",
    "    val_ds = val_ds.map(squeeze, tf.data.AUTOTUNE)\n",
    "\n",
    "    for example_audio, example_labels in train_ds.take(1):\n",
    "        print(example_audio.shape)\n",
    "        print(example_labels.shape)\n",
    "    \n",
    "    train_ds = train_ds.cache().prefetch(tf.data.AUTOTUNE)\n",
    "    val_ds = val_ds.cache().prefetch(tf.data.AUTOTUNE)\n",
    "\n",
    "    return train_ds, val_ds, label_names"
   ]
  },
  {
   "cell_type": "code",
   "execution_count": 9,
   "metadata": {},
   "outputs": [
    {
     "name": "stdout",
     "output_type": "stream",
     "text": [
      "Found 2433 files belonging to 2 classes.\n",
      "Using 1947 files for training.\n",
      "Using 486 files for validation.\n",
      "(32, 16000)\n",
      "(32,)\n"
     ]
    }
   ],
   "source": [
    "train_ds, val_ds, label_names = create_train_audio_dataset(train_data_dir)"
   ]
  },
  {
   "cell_type": "markdown",
   "metadata": {},
   "source": [
    "## Test dataset"
   ]
  },
  {
   "cell_type": "code",
   "execution_count": 10,
   "metadata": {},
   "outputs": [],
   "source": [
    "# Function to create test audio dataset\n",
    "\n",
    "def create_test_audio_dataset(data_dir, batch_size=BATCH_SIZE, output_sequence_length=SAMPLE_RATE):\n",
    "    test_ds = tf.keras.utils.audio_dataset_from_directory(\n",
    "        directory=data_dir,\n",
    "        batch_size=batch_size,\n",
    "        validation_split=None,\n",
    "        seed=0,\n",
    "        output_sequence_length=output_sequence_length,\n",
    "        shuffle=False\n",
    "    )\n",
    "\n",
    "    def squeeze(audio, labels):\n",
    "        audio = tf.squeeze(audio, axis=-1)\n",
    "        return audio, labels\n",
    "\n",
    "    test_ds = test_ds.map(squeeze, tf.data.AUTOTUNE)\n",
    "\n",
    "    for example_audio, example_labels in test_ds.take(1):\n",
    "        print(example_audio.shape)\n",
    "        print(example_labels.shape)\n",
    "\n",
    "    test_ds = test_ds.cache().prefetch(tf.data.AUTOTUNE)\n",
    "\n",
    "    return test_ds"
   ]
  },
  {
   "cell_type": "code",
   "execution_count": 11,
   "metadata": {},
   "outputs": [
    {
     "name": "stdout",
     "output_type": "stream",
     "text": [
      "Found 650 files belonging to 2 classes.\n",
      "(32, 16000)\n",
      "(32,)\n"
     ]
    }
   ],
   "source": [
    "test_ds = create_test_audio_dataset(test_data_dir)"
   ]
  },
  {
   "cell_type": "markdown",
   "metadata": {},
   "source": [
    "# Feature Extraction"
   ]
  },
  {
   "cell_type": "code",
   "execution_count": 12,
   "metadata": {},
   "outputs": [],
   "source": [
    "# Function to get mel spectrogram\n",
    "def get_mel_spectrogram(waveform, sample_rate=SAMPLE_RATE, n_mels=128):\n",
    "    stft = tf.signal.stft(waveform, frame_length=255, frame_step=128)\n",
    "    spectrogram = tf.abs(stft)\n",
    "    mel_spectrogram = tf.signal.linear_to_mel_weight_matrix(\n",
    "        num_mel_bins=n_mels,\n",
    "        num_spectrogram_bins=spectrogram.shape[-1],\n",
    "        sample_rate=sample_rate\n",
    "    )\n",
    "    mel_spectrogram = tf.tensordot(spectrogram, mel_spectrogram, 1)\n",
    "    mel_spectrogram = tf.math.log(mel_spectrogram + 1e-6)\n",
    "    mel_spectrogram = tf.reshape(mel_spectrogram, (-1, 124, 128, 1))\n",
    "\n",
    "    return mel_spectrogram"
   ]
  },
  {
   "cell_type": "code",
   "execution_count": 13,
   "metadata": {},
   "outputs": [],
   "source": [
    "# Function to create mel spectrogram dataset\n",
    "def preprocess_melspec_audio_datasets(train_ds, val_ds, test_ds):\n",
    "    def get_mel_spectrogram(waveform, sample_rate=SAMPLE_RATE, n_mels=128):\n",
    "        stft = tf.signal.stft(waveform, frame_length=255, frame_step=128)\n",
    "        spectrogram = tf.abs(stft)\n",
    "        mel_spectrogram = tf.signal.linear_to_mel_weight_matrix(\n",
    "            num_mel_bins=n_mels,\n",
    "            num_spectrogram_bins=spectrogram.shape[-1],\n",
    "            sample_rate=sample_rate\n",
    "        )\n",
    "        mel_spectrogram = tf.tensordot(spectrogram, mel_spectrogram, 1)\n",
    "        mel_spectrogram = tf.math.log(mel_spectrogram + 1e-6)\n",
    "        mel_spectrogram = tf.reshape(mel_spectrogram, (-1, 124, 128, 1))\n",
    "\n",
    "        return mel_spectrogram\n",
    "\n",
    "    def make_mel_spec_ds(ds):\n",
    "        return ds.map(lambda x, y: (get_mel_spectrogram(x), y), tf.data.AUTOTUNE)\n",
    "\n",
    "    train_mel_spec_ds = make_mel_spec_ds(train_ds)\n",
    "    val_mel_spec_ds = make_mel_spec_ds(val_ds)\n",
    "    test_mel_spec_ds = make_mel_spec_ds(test_ds)\n",
    "\n",
    "    train_mel_spec_ds = train_mel_spec_ds.cache().shuffle(10000).prefetch(tf.data.AUTOTUNE)\n",
    "    val_mel_spec_ds = val_mel_spec_ds.cache().prefetch(tf.data.AUTOTUNE)\n",
    "    test_mel_spec_ds = test_mel_spec_ds.cache().prefetch(tf.data.AUTOTUNE)\n",
    "\n",
    "    return train_mel_spec_ds, val_mel_spec_ds, test_mel_spec_ds"
   ]
  },
  {
   "cell_type": "code",
   "execution_count": 14,
   "metadata": {},
   "outputs": [],
   "source": [
    "train_mel_spec_ds, val_mel_spec_ds, test_mel_spec_ds = preprocess_melspec_audio_datasets(train_ds, val_ds, test_ds)"
   ]
  },
  {
   "cell_type": "markdown",
   "metadata": {},
   "source": [
    "## Shape consistency"
   ]
  },
  {
   "cell_type": "code",
   "execution_count": 15,
   "metadata": {},
   "outputs": [
    {
     "name": "stdout",
     "output_type": "stream",
     "text": [
      "(TensorSpec(shape=(None, 124, 128, 1), dtype=tf.float32, name=None), TensorSpec(shape=(None,), dtype=tf.int32, name=None))\n",
      "(TensorSpec(shape=(None, 124, 128, 1), dtype=tf.float32, name=None), TensorSpec(shape=(None,), dtype=tf.int32, name=None))\n",
      "(TensorSpec(shape=(None, 124, 128, 1), dtype=tf.float32, name=None), TensorSpec(shape=(None,), dtype=tf.int32, name=None))\n"
     ]
    }
   ],
   "source": [
    "print(train_mel_spec_ds.element_spec)\n",
    "print(val_mel_spec_ds.element_spec)\n",
    "print(test_mel_spec_ds.element_spec)"
   ]
  },
  {
   "cell_type": "markdown",
   "metadata": {},
   "source": [
    "# Model 1"
   ]
  },
  {
   "cell_type": "markdown",
   "metadata": {},
   "source": [
    "### Input shape "
   ]
  },
  {
   "cell_type": "code",
   "execution_count": 16,
   "metadata": {},
   "outputs": [
    {
     "name": "stdout",
     "output_type": "stream",
     "text": [
      "Input shape: (124, 128, 1)\n",
      "Labels ['gaali' 'no_gaali']\n"
     ]
    }
   ],
   "source": [
    "example_spectrograms = next(iter(train_mel_spec_ds))[0]\n",
    "input_shape = example_spectrograms.shape[1:]\n",
    "print('Input shape:', input_shape)\n",
    "\n",
    "num_labels = len(label_names)\n",
    "print(f'Labels {label_names}')"
   ]
  },
  {
   "cell_type": "code",
   "execution_count": 17,
   "metadata": {},
   "outputs": [
    {
     "name": "stdout",
     "output_type": "stream",
     "text": [
      "WARNING:tensorflow:From c:\\Users\\vX\\Desktop\\env\\lib\\site-packages\\keras\\src\\backend.py:1398: The name tf.executing_eagerly_outside_functions is deprecated. Please use tf.compat.v1.executing_eagerly_outside_functions instead.\n",
      "\n",
      "WARNING:tensorflow:From c:\\Users\\vX\\Desktop\\env\\lib\\site-packages\\keras\\src\\layers\\pooling\\max_pooling2d.py:161: The name tf.nn.max_pool is deprecated. Please use tf.nn.max_pool2d instead.\n",
      "\n"
     ]
    }
   ],
   "source": [
    "# Model artitecture 1\n",
    "def model(input_shape, num_labels):\n",
    "    model = models.Sequential([\n",
    "        layers.Input(shape=input_shape),\n",
    "        layers.Conv2D(16, 3, activation='relu', padding='same'),\n",
    "        layers.MaxPooling2D(),\n",
    "        layers.Conv2D(32, 3, activation='relu', padding='same'),\n",
    "        layers.MaxPooling2D(),\n",
    "        layers.Conv2D(64, 3, activation='relu', padding='same'),\n",
    "        layers.MaxPooling2D(),\n",
    "        layers.Conv2D(128, 3, activation='relu', padding='same'),\n",
    "        layers.GlobalMaxPooling2D(),\n",
    "        layers.Dense(128, activation='relu'),\n",
    "        layers.Dropout(0.5),\n",
    "        layers.Dense(num_labels, activation='softmax')\n",
    "    ])\n",
    "\n",
    "    return model\n",
    "\n",
    "model = model(input_shape, num_labels)"
   ]
  },
  {
   "cell_type": "markdown",
   "metadata": {},
   "source": [
    "### Model Architecture"
   ]
  },
  {
   "cell_type": "code",
   "execution_count": 18,
   "metadata": {},
   "outputs": [
    {
     "name": "stdout",
     "output_type": "stream",
     "text": [
      "Model: \"sequential\"\n",
      "_________________________________________________________________\n",
      " Layer (type)                Output Shape              Param #   \n",
      "=================================================================\n",
      " conv2d (Conv2D)             (None, 124, 128, 16)      160       \n",
      "                                                                 \n",
      " max_pooling2d (MaxPooling2  (None, 62, 64, 16)        0         \n",
      " D)                                                              \n",
      "                                                                 \n",
      " conv2d_1 (Conv2D)           (None, 62, 64, 32)        4640      \n",
      "                                                                 \n",
      " max_pooling2d_1 (MaxPoolin  (None, 31, 32, 32)        0         \n",
      " g2D)                                                            \n",
      "                                                                 \n",
      " conv2d_2 (Conv2D)           (None, 31, 32, 64)        18496     \n",
      "                                                                 \n",
      " max_pooling2d_2 (MaxPoolin  (None, 15, 16, 64)        0         \n",
      " g2D)                                                            \n",
      "                                                                 \n",
      " conv2d_3 (Conv2D)           (None, 15, 16, 128)       73856     \n",
      "                                                                 \n",
      " global_max_pooling2d (Glob  (None, 128)               0         \n",
      " alMaxPooling2D)                                                 \n",
      "                                                                 \n",
      " dense (Dense)               (None, 128)               16512     \n",
      "                                                                 \n",
      " dropout (Dropout)           (None, 128)               0         \n",
      "                                                                 \n",
      " dense_1 (Dense)             (None, 2)                 258       \n",
      "                                                                 \n",
      "=================================================================\n",
      "Total params: 113922 (445.01 KB)\n",
      "Trainable params: 113922 (445.01 KB)\n",
      "Non-trainable params: 0 (0.00 Byte)\n",
      "_________________________________________________________________\n"
     ]
    }
   ],
   "source": [
    "model.summary()"
   ]
  },
  {
   "cell_type": "markdown",
   "metadata": {},
   "source": [
    "### Compile and Train the model"
   ]
  },
  {
   "cell_type": "code",
   "execution_count": 19,
   "metadata": {},
   "outputs": [],
   "source": [
    "Epochs = 50\n",
    "patience = 10\n",
    "learning_rate = 0.001\n",
    "optimizer = tf.keras.optimizers.Adam(learning_rate=learning_rate)\n",
    "loss = tf.keras.losses.SparseCategoricalCrossentropy(from_logits=False)"
   ]
  },
  {
   "cell_type": "code",
   "execution_count": 20,
   "metadata": {},
   "outputs": [],
   "source": [
    "# Function to compile and train the model\n",
    "def compile_and_train_model(model, train_ds, val_ds, learning_rate=learning_rate):\n",
    "    try:\n",
    "        optimizer = tf.keras.optimizers.Adam(learning_rate=learning_rate)\n",
    "        model.compile(optimizer=optimizer, loss=loss, metrics=['accuracy'])\n",
    "        history = model.fit(train_ds, validation_data=val_ds, epochs=Epochs)\n",
    "        return history\n",
    "    except Exception as e:\n",
    "        print(f\"An error occurred during model compilation and training: {str(e)}\")\n"
   ]
  },
  {
   "cell_type": "code",
   "execution_count": 21,
   "metadata": {},
   "outputs": [
    {
     "name": "stdout",
     "output_type": "stream",
     "text": [
      "Epoch 1/50\n",
      "WARNING:tensorflow:From c:\\Users\\vX\\Desktop\\env\\lib\\site-packages\\keras\\src\\utils\\tf_utils.py:492: The name tf.ragged.RaggedTensorValue is deprecated. Please use tf.compat.v1.ragged.RaggedTensorValue instead.\n",
      "\n",
      "WARNING:tensorflow:From c:\\Users\\vX\\Desktop\\env\\lib\\site-packages\\keras\\src\\engine\\base_layer_utils.py:384: The name tf.executing_eagerly_outside_functions is deprecated. Please use tf.compat.v1.executing_eagerly_outside_functions instead.\n",
      "\n",
      "61/61 [==============================] - 14s 196ms/step - loss: 0.6778 - accuracy: 0.5701 - val_loss: 0.5629 - val_accuracy: 0.6811\n",
      "Epoch 2/50\n",
      "61/61 [==============================] - 11s 180ms/step - loss: 0.5401 - accuracy: 0.7026 - val_loss: 0.5173 - val_accuracy: 0.7058\n",
      "Epoch 3/50\n",
      "61/61 [==============================] - 11s 178ms/step - loss: 0.4325 - accuracy: 0.8043 - val_loss: 0.3484 - val_accuracy: 0.8395\n",
      "Epoch 4/50\n",
      "61/61 [==============================] - 11s 173ms/step - loss: 0.2903 - accuracy: 0.8783 - val_loss: 0.2239 - val_accuracy: 0.9156\n",
      "Epoch 5/50\n",
      "61/61 [==============================] - 11s 182ms/step - loss: 0.2311 - accuracy: 0.9147 - val_loss: 0.2788 - val_accuracy: 0.8868\n",
      "Epoch 6/50\n",
      "61/61 [==============================] - 11s 181ms/step - loss: 0.2048 - accuracy: 0.9132 - val_loss: 0.2211 - val_accuracy: 0.9362\n",
      "Epoch 7/50\n",
      "61/61 [==============================] - 11s 176ms/step - loss: 0.1586 - accuracy: 0.9440 - val_loss: 0.1429 - val_accuracy: 0.9609\n",
      "Epoch 8/50\n",
      "61/61 [==============================] - 11s 182ms/step - loss: 0.1190 - accuracy: 0.9543 - val_loss: 0.1342 - val_accuracy: 0.9630\n",
      "Epoch 9/50\n",
      "61/61 [==============================] - 11s 181ms/step - loss: 0.0937 - accuracy: 0.9635 - val_loss: 0.1720 - val_accuracy: 0.9506\n",
      "Epoch 10/50\n",
      "61/61 [==============================] - 11s 177ms/step - loss: 0.1048 - accuracy: 0.9594 - val_loss: 0.1671 - val_accuracy: 0.9280\n",
      "Epoch 11/50\n",
      "61/61 [==============================] - 11s 181ms/step - loss: 0.0813 - accuracy: 0.9692 - val_loss: 0.1746 - val_accuracy: 0.9527\n",
      "Epoch 12/50\n",
      "61/61 [==============================] - 11s 182ms/step - loss: 0.0793 - accuracy: 0.9707 - val_loss: 0.1356 - val_accuracy: 0.9630\n",
      "Epoch 13/50\n",
      "61/61 [==============================] - 11s 178ms/step - loss: 0.0636 - accuracy: 0.9764 - val_loss: 0.1299 - val_accuracy: 0.9733\n",
      "Epoch 14/50\n",
      "61/61 [==============================] - 11s 182ms/step - loss: 0.0600 - accuracy: 0.9753 - val_loss: 0.1564 - val_accuracy: 0.9486\n",
      "Epoch 15/50\n",
      "61/61 [==============================] - 11s 185ms/step - loss: 0.0545 - accuracy: 0.9810 - val_loss: 0.2871 - val_accuracy: 0.9321\n",
      "Epoch 16/50\n",
      "61/61 [==============================] - 11s 178ms/step - loss: 0.0568 - accuracy: 0.9810 - val_loss: 0.1683 - val_accuracy: 0.9733\n",
      "Epoch 17/50\n",
      "61/61 [==============================] - 11s 178ms/step - loss: 0.0487 - accuracy: 0.9825 - val_loss: 0.1340 - val_accuracy: 0.9630\n",
      "Epoch 18/50\n",
      "61/61 [==============================] - 11s 183ms/step - loss: 0.0544 - accuracy: 0.9795 - val_loss: 0.1490 - val_accuracy: 0.9753\n",
      "Epoch 19/50\n",
      "61/61 [==============================] - 11s 182ms/step - loss: 0.0265 - accuracy: 0.9918 - val_loss: 0.1619 - val_accuracy: 0.9753\n",
      "Epoch 20/50\n",
      "61/61 [==============================] - 11s 180ms/step - loss: 0.0305 - accuracy: 0.9887 - val_loss: 0.1647 - val_accuracy: 0.9774\n",
      "Epoch 21/50\n",
      "61/61 [==============================] - 12s 190ms/step - loss: 0.0232 - accuracy: 0.9933 - val_loss: 0.1574 - val_accuracy: 0.9774\n",
      "Epoch 22/50\n",
      "61/61 [==============================] - 12s 196ms/step - loss: 0.0347 - accuracy: 0.9882 - val_loss: 0.1447 - val_accuracy: 0.9774\n",
      "Epoch 23/50\n",
      "61/61 [==============================] - 11s 184ms/step - loss: 0.0155 - accuracy: 0.9949 - val_loss: 0.1898 - val_accuracy: 0.9774\n",
      "Epoch 24/50\n",
      "61/61 [==============================] - 11s 178ms/step - loss: 0.0206 - accuracy: 0.9918 - val_loss: 0.1831 - val_accuracy: 0.9671\n",
      "Epoch 25/50\n",
      "61/61 [==============================] - 11s 183ms/step - loss: 0.0315 - accuracy: 0.9897 - val_loss: 0.1814 - val_accuracy: 0.9753\n",
      "Epoch 26/50\n",
      "61/61 [==============================] - 11s 183ms/step - loss: 0.0355 - accuracy: 0.9856 - val_loss: 0.1527 - val_accuracy: 0.9630\n",
      "Epoch 27/50\n",
      "61/61 [==============================] - 11s 179ms/step - loss: 0.0410 - accuracy: 0.9861 - val_loss: 0.1686 - val_accuracy: 0.9733\n",
      "Epoch 28/50\n",
      "61/61 [==============================] - 11s 183ms/step - loss: 0.0332 - accuracy: 0.9902 - val_loss: 0.2141 - val_accuracy: 0.9691\n",
      "Epoch 29/50\n",
      "61/61 [==============================] - 11s 184ms/step - loss: 0.0210 - accuracy: 0.9933 - val_loss: 0.1794 - val_accuracy: 0.9774\n",
      "Epoch 30/50\n",
      "61/61 [==============================] - 11s 183ms/step - loss: 0.0107 - accuracy: 0.9949 - val_loss: 0.2108 - val_accuracy: 0.9774\n",
      "Epoch 31/50\n",
      "61/61 [==============================] - 11s 178ms/step - loss: 0.0057 - accuracy: 0.9979 - val_loss: 0.2404 - val_accuracy: 0.9753\n",
      "Epoch 32/50\n",
      "61/61 [==============================] - 11s 184ms/step - loss: 0.0081 - accuracy: 0.9979 - val_loss: 0.2331 - val_accuracy: 0.9691\n",
      "Epoch 33/50\n",
      "61/61 [==============================] - 11s 186ms/step - loss: 0.0559 - accuracy: 0.9815 - val_loss: 0.2620 - val_accuracy: 0.9300\n",
      "Epoch 34/50\n",
      "61/61 [==============================] - 11s 179ms/step - loss: 0.0489 - accuracy: 0.9800 - val_loss: 0.1910 - val_accuracy: 0.9733\n",
      "Epoch 35/50\n",
      "61/61 [==============================] - 11s 184ms/step - loss: 0.0124 - accuracy: 0.9938 - val_loss: 0.2310 - val_accuracy: 0.9753\n",
      "Epoch 36/50\n",
      "61/61 [==============================] - 11s 184ms/step - loss: 0.0053 - accuracy: 0.9985 - val_loss: 0.2630 - val_accuracy: 0.9691\n",
      "Epoch 37/50\n",
      "61/61 [==============================] - 11s 184ms/step - loss: 0.0066 - accuracy: 0.9974 - val_loss: 0.2536 - val_accuracy: 0.9733\n",
      "Epoch 38/50\n",
      "61/61 [==============================] - 11s 178ms/step - loss: 0.0351 - accuracy: 0.9851 - val_loss: 0.1556 - val_accuracy: 0.9691\n",
      "Epoch 39/50\n",
      "61/61 [==============================] - 11s 185ms/step - loss: 0.0122 - accuracy: 0.9949 - val_loss: 0.2169 - val_accuracy: 0.9774\n",
      "Epoch 40/50\n",
      "61/61 [==============================] - 11s 183ms/step - loss: 0.0112 - accuracy: 0.9964 - val_loss: 0.2554 - val_accuracy: 0.9774\n",
      "Epoch 41/50\n",
      "61/61 [==============================] - 11s 184ms/step - loss: 0.0026 - accuracy: 0.9990 - val_loss: 0.2775 - val_accuracy: 0.9774\n",
      "Epoch 42/50\n",
      "61/61 [==============================] - 11s 186ms/step - loss: 0.0014 - accuracy: 1.0000 - val_loss: 0.2910 - val_accuracy: 0.9774\n",
      "Epoch 43/50\n",
      "61/61 [==============================] - 11s 179ms/step - loss: 5.1747e-04 - accuracy: 1.0000 - val_loss: 0.2735 - val_accuracy: 0.9794\n",
      "Epoch 44/50\n",
      "61/61 [==============================] - 11s 186ms/step - loss: 7.7341e-04 - accuracy: 1.0000 - val_loss: 0.3069 - val_accuracy: 0.9774\n",
      "Epoch 45/50\n",
      "61/61 [==============================] - 11s 184ms/step - loss: 6.1377e-04 - accuracy: 1.0000 - val_loss: 0.3006 - val_accuracy: 0.9774\n",
      "Epoch 46/50\n",
      "61/61 [==============================] - 11s 184ms/step - loss: 1.5903e-04 - accuracy: 1.0000 - val_loss: 0.3191 - val_accuracy: 0.9794\n",
      "Epoch 47/50\n",
      "61/61 [==============================] - 11s 179ms/step - loss: 1.4980e-04 - accuracy: 1.0000 - val_loss: 0.3250 - val_accuracy: 0.9774\n",
      "Epoch 48/50\n",
      "61/61 [==============================] - 11s 184ms/step - loss: 2.5749e-04 - accuracy: 1.0000 - val_loss: 0.3444 - val_accuracy: 0.9774\n",
      "Epoch 49/50\n",
      "61/61 [==============================] - 11s 185ms/step - loss: 2.3822e-04 - accuracy: 1.0000 - val_loss: 0.3435 - val_accuracy: 0.9794\n",
      "Epoch 50/50\n",
      "61/61 [==============================] - 11s 185ms/step - loss: 1.6744e-04 - accuracy: 1.0000 - val_loss: 0.3358 - val_accuracy: 0.9794\n"
     ]
    }
   ],
   "source": [
    "history = compile_and_train_model(model, train_mel_spec_ds, val_mel_spec_ds)"
   ]
  },
  {
   "cell_type": "markdown",
   "metadata": {},
   "source": [
    "### Plot Accuracy and Loss"
   ]
  },
  {
   "cell_type": "code",
   "execution_count": 22,
   "metadata": {},
   "outputs": [],
   "source": [
    "\n",
    "# Function to plot the training history\n",
    "def plot_training_history(history):\n",
    "    try:\n",
    "        acc = history.history['accuracy']\n",
    "        val_acc = history.history['val_accuracy']\n",
    "        loss = history.history['loss']\n",
    "        val_loss = history.history['val_loss']\n",
    "\n",
    "        epochs = range(len(acc))\n",
    "\n",
    "        plt.figure(figsize=(12, 4))\n",
    "        plt.subplot(1, 2, 1)\n",
    "        plt.plot(epochs, acc, 'r', label='Training accuracy')\n",
    "        plt.plot(epochs, val_acc, 'b', label='Validation accuracy')\n",
    "        plt.title('Training and validation accuracy')\n",
    "        plt.xlabel('Epochs')\n",
    "        plt.ylabel('Accuracy')\n",
    "        plt.legend()\n",
    "\n",
    "        plt.subplot(1, 2, 2)\n",
    "        plt.plot(epochs, loss, 'r', label='Training loss')\n",
    "        plt.plot(epochs, val_loss, 'b', label='Validation loss')\n",
    "        plt.title('Training and validation loss')\n",
    "        plt.xlabel('Epochs')\n",
    "        plt.ylabel('Loss')\n",
    "        plt.legend()\n",
    "\n",
    "        plt.tight_layout()\n",
    "        plt.show()\n",
    "    except Exception as e:\n",
    "        print(f\"An error occurred during plotting the training history: {str(e)}\")"
   ]
  },
  {
   "cell_type": "code",
   "execution_count": 23,
   "metadata": {},
   "outputs": [
    {
     "data": {
      "image/png": "[encoded data removed]",
      "text/plain": [
       "<Figure size 1200x400 with 2 Axes>"
      ]
     },
     "metadata": {},
     "output_type": "display_data"
    }
   ],
   "source": [
    "plot_training_history(history)"
   ]
  },
  {
   "cell_type": "markdown",
   "metadata": {},
   "source": [
    "### Evaluate the model performance\n",
    "\n",
    "Run the model on the test set and check the model's performance:"
   ]
  },
  {
   "cell_type": "code",
   "execution_count": 24,
   "metadata": {},
   "outputs": [],
   "source": [
    "# Function to evaluate the model on the test dataset\n",
    "def evaluate_model(model, test_ds):\n",
    "    try:\n",
    "        y_true = []\n",
    "        y_pred = []\n",
    "        for audio, labels in test_ds:\n",
    "            predictions = model.predict(audio, verbose=0)\n",
    "            y_true.extend(labels.numpy())\n",
    "            y_pred.extend(tf.argmax(predictions, axis=1).numpy())\n",
    "\n",
    "        loss, accuracy = model.evaluate(test_ds, verbose=0)\n",
    "        precision = precision_score(y_true, y_pred, average='weighted', zero_division=0)\n",
    "        recall = recall_score(y_true, y_pred, average='weighted', zero_division=0)\n",
    "        f1 = f1_score(y_true, y_pred, average='weighted', zero_division=0)\n",
    "\n",
    "        print(f\"Test accuracy:      {int(accuracy * 100)}%\")\n",
    "        print(f\"Test loss:          {loss}\")\n",
    "        print(f\"Precision:          {precision}\")\n",
    "        print(f\"Recall:             {recall}\")\n",
    "        print(f\"F1-score:           {f1}\")\n",
    "    except Exception as e:\n",
    "        print(f\"An error occurred during model evaluation: {str(e)}\")"
   ]
  },
  {
   "cell_type": "code",
   "execution_count": 25,
   "metadata": {},
   "outputs": [
    {
     "name": "stdout",
     "output_type": "stream",
     "text": [
      "Test accuracy:      98%\n",
      "Test loss:          0.10159987211227417\n",
      "Precision:          0.9815480241235274\n",
      "Recall:             0.9815384615384616\n",
      "F1-score:           0.981533887888403\n"
     ]
    }
   ],
   "source": [
    "evaluate_model(model, test_mel_spec_ds)"
   ]
  },
  {
   "cell_type": "markdown",
   "metadata": {},
   "source": [
    "## Confusion matrix"
   ]
  },
  {
   "cell_type": "code",
   "execution_count": 26,
   "metadata": {},
   "outputs": [
    {
     "name": "stdout",
     "output_type": "stream",
     "text": [
      "21/21 [==============================] - 1s 42ms/step\n"
     ]
    }
   ],
   "source": [
    "y_pred = model.predict(test_mel_spec_ds)\n",
    "y_pred = tf.argmax(y_pred, axis=1)\n",
    "y_true = tf.concat(list(test_mel_spec_ds.map(lambda s,lab: lab)), axis=0)\n",
    "label_names_slice = ['gaali', 'no_gaali']"
   ]
  },
  {
   "cell_type": "code",
   "execution_count": 27,
   "metadata": {},
   "outputs": [],
   "source": [
    "# Function to plot the confusion matrix\n",
    "def plot_confusion_matrix(y_true, y_pred, label_names):\n",
    "    try:\n",
    "        confusion_mtx = tf.math.confusion_matrix(y_true, y_pred)\n",
    "        plt.figure(figsize=(8, 6))\n",
    "        sns.heatmap(confusion_mtx,\n",
    "                    xticklabels=label_names,\n",
    "                    yticklabels=label_names,\n",
    "                    annot=True, fmt='g')\n",
    "        plt.xlabel('Prediction')\n",
    "        plt.ylabel('Label')\n",
    "        plt.title('Confusion Matrix')\n",
    "        plt.show()\n",
    "    except Exception as e:\n",
    "        print(f\"An error occurred during plotting the confusion matrix: {str(e)}\")"
   ]
  },
  {
   "cell_type": "code",
   "execution_count": 28,
   "metadata": {},
   "outputs": [
    {
     "data": {
      "image/png": "[encoded data removed]",
      "text/plain": [
       "<Figure size 800x600 with 2 Axes>"
      ]
     },
     "metadata": {},
     "output_type": "display_data"
    }
   ],
   "source": [
    "plot_confusion_matrix(y_true, y_pred, label_names_slice)"
   ]
  },
  {
   "cell_type": "markdown",
   "metadata": {},
   "source": []
  },
  {
   "cell_type": "markdown",
   "metadata": {},
   "source": [
    "## save the Keras model"
   ]
  },
  {
   "cell_type": "code",
   "execution_count": 29,
   "metadata": {},
   "outputs": [],
   "source": [
    "KERAS_MODEL_PATH = \"model/wakeword_model_2.keras\""
   ]
  },
  {
   "cell_type": "code",
   "execution_count": 30,
   "metadata": {},
   "outputs": [],
   "source": [
    "model.save(KERAS_MODEL_PATH)"
   ]
  },
  {
   "cell_type": "markdown",
   "metadata": {},
   "source": [
    "## Size of the keras model"
   ]
  },
  {
   "cell_type": "code",
   "execution_count": 31,
   "metadata": {},
   "outputs": [],
   "source": [
    "# Function to get the file size\n",
    "def get_and_convert_file_size(file_path, unit=None):\n",
    "    size = os.path.getsize(file_path)\n",
    "    if unit == \"KB\":\n",
    "        return print('File size: ' + str(round(size / 1024, 3)) + ' Kilobytes')\n",
    "    elif unit == \"MB\":\n",
    "        return print('File size: ' + str(round(size / (1024 * 1024), 3)) + ' Megabytes')\n",
    "    else:\n",
    "        return print('File size: ' + str(size) + ' bytes')"
   ]
  },
  {
   "cell_type": "code",
   "execution_count": 32,
   "metadata": {},
   "outputs": [
    {
     "name": "stdout",
     "output_type": "stream",
     "text": [
      "File size: 1.352 Megabytes\n"
     ]
    }
   ],
   "source": [
    "keras_model_size = get_and_convert_file_size(KERAS_MODEL_PATH, 'MB')"
   ]
  },
  {
   "cell_type": "markdown",
   "metadata": {},
   "source": [
    "## TFLite Model for model"
   ]
  },
  {
   "cell_type": "code",
   "execution_count": 33,
   "metadata": {},
   "outputs": [
    {
     "name": "stdout",
     "output_type": "stream",
     "text": [
      "INFO:tensorflow:Assets written to: C:\\Users\\vX\\AppData\\Local\\Temp\\tmpmp0a70ji\\assets\n"
     ]
    },
    {
     "name": "stderr",
     "output_type": "stream",
     "text": [
      "INFO:tensorflow:Assets written to: C:\\Users\\vX\\AppData\\Local\\Temp\\tmpmp0a70ji\\assets\n"
     ]
    }
   ],
   "source": [
    "tflite_model_path = 'model/wakeword_model_2.tflite'\n",
    "\n",
    "# Convert the model to TensorFlow Lite\n",
    "converter = tf.lite.TFLiteConverter.from_keras_model(model)\n",
    "tflite_model = converter.convert()\n",
    "\n",
    "# Save the TensorFlow Lite model to a file\n",
    "with open(tflite_model_path, 'wb') as f:\n",
    "    f.write(tflite_model)"
   ]
  },
  {
   "cell_type": "code",
   "execution_count": 34,
   "metadata": {},
   "outputs": [],
   "source": [
    "# Load the TensorFlow Lite model:\n",
    "interpreter = tf.lite.Interpreter(model_path=tflite_model_path)\n",
    "interpreter.allocate_tensors()"
   ]
  },
  {
   "cell_type": "code",
   "execution_count": 35,
   "metadata": {},
   "outputs": [
    {
     "name": "stdout",
     "output_type": "stream",
     "text": [
      "Input shape: [  1 124 128   1]\n"
     ]
    }
   ],
   "source": [
    "# input shape\n",
    "input_details = interpreter.get_input_details()\n",
    "input_shape = input_details[0]['shape']\n",
    "print('Input shape:', input_shape)"
   ]
  },
  {
   "cell_type": "code",
   "execution_count": 36,
   "metadata": {},
   "outputs": [
    {
     "name": "stdout",
     "output_type": "stream",
     "text": [
      "Output shape: [1 2]\n"
     ]
    }
   ],
   "source": [
    "# output shape\n",
    "output_details = interpreter.get_output_details()\n",
    "output_shape = output_details[0]['shape']\n",
    "print('Output shape:', output_shape)"
   ]
  },
  {
   "cell_type": "code",
   "execution_count": 37,
   "metadata": {},
   "outputs": [],
   "source": [
    "# Prepare the test dataset \n",
    "test_mel_spec_ds = test_mel_spec_ds.unbatch().batch(1)"
   ]
  },
  {
   "cell_type": "code",
   "execution_count": 38,
   "metadata": {},
   "outputs": [],
   "source": [
    "# Run inference on the test dataset and collect predictions:\n",
    "y_true = []\n",
    "y_pred = []\n",
    "\n",
    "for mel_spectrogram, label in test_mel_spec_ds:\n",
    "    # Perform inference\n",
    "    interpreter.set_tensor(interpreter.get_input_details()[0]['index'], mel_spectrogram)\n",
    "    interpreter.invoke()\n",
    "    output = interpreter.get_tensor(interpreter.get_output_details()[0]['index'])\n",
    "\n",
    "    # Collect predictions\n",
    "    y_true.append(label.numpy()[0])\n",
    "    y_pred.append(np.argmax(output))\n"
   ]
  },
  {
   "cell_type": "code",
   "execution_count": 39,
   "metadata": {},
   "outputs": [
    {
     "name": "stdout",
     "output_type": "stream",
     "text": [
      "Accuracy is 98%\n"
     ]
    }
   ],
   "source": [
    "accuracy = accuracy_score(y_true, y_pred)\n",
    "print(f'Accuracy is {int(accuracy*100)}%')"
   ]
  },
  {
   "cell_type": "code",
   "execution_count": 40,
   "metadata": {},
   "outputs": [
    {
     "data": {
      "image/png": "[encoded data removed]",
      "text/plain": [
       "<Figure size 800x600 with 2 Axes>"
      ]
     },
     "metadata": {},
     "output_type": "display_data"
    }
   ],
   "source": [
    "confusion_mtx = tf.math.confusion_matrix(y_true, y_pred)\n",
    "plt.figure(figsize=(8, 6))\n",
    "sns.heatmap(confusion_mtx,\n",
    "            xticklabels=label_names,\n",
    "            yticklabels=label_names,\n",
    "            annot=True, fmt='g')\n",
    "plt.xlabel('Prediction')\n",
    "plt.ylabel('Label')\n",
    "plt.show()"
   ]
  },
  {
   "cell_type": "code",
   "execution_count": 41,
   "metadata": {},
   "outputs": [
    {
     "name": "stdout",
     "output_type": "stream",
     "text": [
      "File size: 449.48 Kilobytes\n"
     ]
    }
   ],
   "source": [
    "get_and_convert_file_size(tflite_model_path, \"KB\")"
   ]
  },
  {
   "cell_type": "markdown",
   "metadata": {},
   "source": [
    "## Quntized model"
   ]
  },
  {
   "cell_type": "code",
   "execution_count": 42,
   "metadata": {},
   "outputs": [
    {
     "name": "stdout",
     "output_type": "stream",
     "text": [
      "INFO:tensorflow:Assets written to: C:\\Users\\vX\\AppData\\Local\\Temp\\tmptta5q2mv\\assets\n"
     ]
    },
    {
     "name": "stderr",
     "output_type": "stream",
     "text": [
      "INFO:tensorflow:Assets written to: C:\\Users\\vX\\AppData\\Local\\Temp\\tmptta5q2mv\\assets\n"
     ]
    }
   ],
   "source": [
    "quantized_tflite_model_path = 'model/Quantized_wakeword_model_2.tflite'\n",
    "\n",
    "# Quantize the TensorFlow Lite model\n",
    "converter.optimizations = [tf.lite.Optimize.DEFAULT]\n",
    "quantized_tflite_model = converter.convert()\n",
    "\n",
    "# Save the quantized TensorFlow Lite model\n",
    "with open(quantized_tflite_model_path, 'wb') as f:\n",
    "    f.write(quantized_tflite_model)\n"
   ]
  },
  {
   "cell_type": "code",
   "execution_count": 43,
   "metadata": {},
   "outputs": [
    {
     "name": "stdout",
     "output_type": "stream",
     "text": [
      "File size: 120.742 Kilobytes\n"
     ]
    }
   ],
   "source": [
    "get_and_convert_file_size(quantized_tflite_model_path, \"KB\")"
   ]
  },
  {
   "cell_type": "code",
   "execution_count": 44,
   "metadata": {},
   "outputs": [
    {
     "name": "stdout",
     "output_type": "stream",
     "text": [
      "Accuracy: 0.9815384615384616\n"
     ]
    }
   ],
   "source": [
    "# Evaluate the model on the test dataset\n",
    "correct = 0\n",
    "total = 0\n",
    "for mel_spectrogram, label in test_mel_spec_ds:\n",
    "    interpreter.set_tensor(input_details[0]['index'], mel_spectrogram)\n",
    "    interpreter.invoke()\n",
    "    output = interpreter.get_tensor(output_details[0]['index'])\n",
    "    predicted_label = np.argmax(output)\n",
    "    correct += bool(predicted_label == label)  # Convert to boolean\n",
    "    total += 1\n",
    "\n",
    "accuracy = correct / total\n",
    "print(f'Accuracy: {accuracy}')\n"
   ]
  },
  {
   "cell_type": "code",
   "execution_count": 45,
   "metadata": {},
   "outputs": [
    {
     "data": {
      "image/png": "[encoded data removed]",
      "text/plain": [
       "<Figure size 800x600 with 2 Axes>"
      ]
     },
     "metadata": {},
     "output_type": "display_data"
    }
   ],
   "source": [
    "# Evaluate the model on the test dataset\n",
    "y_true = []\n",
    "y_pred = []\n",
    "\n",
    "for mel_spectrogram, label in test_mel_spec_ds:\n",
    "    interpreter.set_tensor(input_details[0]['index'], mel_spectrogram)\n",
    "    interpreter.invoke()\n",
    "    output = interpreter.get_tensor(output_details[0]['index'])\n",
    "    predicted_label = np.argmax(output)\n",
    "    y_true.append(label)\n",
    "    y_pred.append(predicted_label)\n",
    "\n",
    "\n",
    "confusion_mtx = tf.math.confusion_matrix(y_true, y_pred)\n",
    "plt.figure(figsize=(8, 6))\n",
    "sns.heatmap(confusion_mtx,\n",
    "            xticklabels=label_names,\n",
    "            yticklabels=label_names,\n",
    "            annot=True, fmt='g')\n",
    "plt.title('Confusion Matrix')\n",
    "plt.xlabel('Prediction')\n",
    "plt.ylabel('Label')\n",
    "plt.show()"
   ]
  },
  {
   "cell_type": "code",
   "execution_count": 46,
   "metadata": {},
   "outputs": [
    {
     "name": "stdout",
     "output_type": "stream",
     "text": [
      "Accuracy is 98%\n"
     ]
    }
   ],
   "source": [
    "accuracy = accuracy_score(y_true, y_pred)\n",
    "print(f'Accuracy is {int(accuracy*100)}%')\n"
   ]
  },
  {
   "cell_type": "markdown",
   "metadata": {},
   "source": [
    "# Inference"
   ]
  },
  {
   "cell_type": "markdown",
   "metadata": {},
   "source": [
    "## Loading the model"
   ]
  },
  {
   "cell_type": "code",
   "execution_count": 47,
   "metadata": {},
   "outputs": [
    {
     "name": "stdout",
     "output_type": "stream",
     "text": [
      "Model loaded successfully.\n"
     ]
    }
   ],
   "source": [
    "try:\n",
    "    model = tf.keras.models.load_model('model/wakeword_model_2.keras')\n",
    "    print(\"Model loaded successfully.\")\n",
    "except Exception as e:\n",
    "    print(\"Error loading model: \", e)"
   ]
  },
  {
   "cell_type": "markdown",
   "metadata": {},
   "source": [
    "## Record and return audio file"
   ]
  },
  {
   "cell_type": "code",
   "execution_count": 48,
   "metadata": {},
   "outputs": [],
   "source": [
    "def record_audio(filename, duration, rate=16000, channels=1, chunk_size=1024):\n",
    "    p = pyaudio.PyAudio()\n",
    "\n",
    "    # open stream\n",
    "    stream = p.open(format=pyaudio.paInt16,\n",
    "                    channels=channels,\n",
    "                    rate=rate,\n",
    "                    input=True,\n",
    "                    frames_per_buffer=chunk_size)\n",
    "\n",
    "    print(\"Recording...\")\n",
    "\n",
    "    frames = []\n",
    "\n",
    "    # record for duration\n",
    "    for i in range(0, int(rate / chunk_size * duration)):\n",
    "        data = stream.read(chunk_size)\n",
    "        frames.append(data)\n",
    "\n",
    "    print(\"Finished recording.\")\n",
    "\n",
    "    # stop and close stream\n",
    "    stream.stop_stream()\n",
    "    stream.close()\n",
    "\n",
    "    # terminate pyaudio object\n",
    "    p.terminate()\n",
    "\n",
    "    # save audio file\n",
    "    wf = wave.open(filename, 'wb')\n",
    "    wf.setnchannels(channels)\n",
    "    wf.setsampwidth(p.get_sample_size(pyaudio.paInt16))\n",
    "    wf.setframerate(rate)\n",
    "    wf.writeframes(b''.join(frames))\n",
    "    wf.close()\n",
    "\n",
    "    return filename"
   ]
  },
  {
   "cell_type": "code",
   "execution_count": 49,
   "metadata": {},
   "outputs": [],
   "source": [
    "# Function to print audio properties\n",
    "def print_audio_properties(file_path):\n",
    "    if not os.path.isfile(file_path):\n",
    "        print(f\"File {file_path} does not exist.\")\n",
    "        return\n",
    "\n",
    "    try:\n",
    "        audio_signal, sample_rate = librosa.load(file_path, sr=None)\n",
    "        with wave.open(file_path, 'rb') as audio:\n",
    "            num_channels = audio.getnchannels()\n",
    "            frame_rate = audio.getframerate()\n",
    "            num_frames = audio.getnframes()\n",
    "            duration = num_frames / float(frame_rate)\n",
    "\n",
    "            print(f\"\\nAudio Properties for {os.path.basename(file_path)}\")\n",
    "            print(f\"Number of channels:  {num_channels}\")\n",
    "            print(f\"Sample rate (Hz):    {sample_rate}\")\n",
    "            print(f\"Number of frames:    {num_frames}\")\n",
    "            print(f\"Duration (s):        {duration}\")\n",
    "            print()\n",
    "        \n",
    "        # Play the audio files\n",
    "        audio = Audio(file_path)\n",
    "        display(audio)\n",
    "    except Exception as e:\n",
    "        print(f\"An error occurred while processing the file: {e}\")\n",
    "    return"
   ]
  },
  {
   "cell_type": "markdown",
   "metadata": {},
   "source": [
    "## Feactures"
   ]
  },
  {
   "cell_type": "code",
   "execution_count": 50,
   "metadata": {},
   "outputs": [],
   "source": [
    "FRAME_LENGTH = 255\n",
    "FRAME_STEP = 128\n",
    "N_MELS = 128"
   ]
  },
  {
   "cell_type": "code",
   "execution_count": 51,
   "metadata": {},
   "outputs": [],
   "source": [
    "def get_mel_spectrogram(waveform, sample_rate=SAMPLE_RATE, n_mels=N_MELS):\n",
    "    stft = tf.signal.stft(waveform, frame_length=FRAME_LENGTH, frame_step=FRAME_STEP)\n",
    "    spectrogram = tf.abs(stft)\n",
    "    mel_spectrogram = tf.signal.linear_to_mel_weight_matrix(\n",
    "        num_mel_bins=n_mels,\n",
    "        num_spectrogram_bins=spectrogram.shape[-1],\n",
    "        sample_rate=sample_rate\n",
    "    )\n",
    "    mel_spectrogram = tf.tensordot(spectrogram, mel_spectrogram, 1)\n",
    "    mel_spectrogram = tf.math.log(mel_spectrogram + 1e-6)\n",
    "    mel_spectrogram = tf.reshape(mel_spectrogram, (-1, 124, 128, 1))\n",
    "\n",
    "    return mel_spectrogram"
   ]
  },
  {
   "cell_type": "markdown",
   "metadata": {},
   "source": [
    "## Labels"
   ]
  },
  {
   "cell_type": "code",
   "execution_count": 52,
   "metadata": {},
   "outputs": [],
   "source": [
    "# Function to get the labels\n",
    "def get_label_names():\n",
    "    label_names = ['gaali', 'no_gaali']\n",
    "    return label_names\n"
   ]
  },
  {
   "cell_type": "markdown",
   "metadata": {},
   "source": [
    "## Prediction"
   ]
  },
  {
   "cell_type": "code",
   "execution_count": 53,
   "metadata": {},
   "outputs": [],
   "source": [
    "def predict_audio(file_path, model, sample_rate):\n",
    "    x = tf.io.read_file(str(file_path))\n",
    "    x, _ = tf.audio.decode_wav(x, desired_channels=1, desired_samples=16000)\n",
    "    x = tf.squeeze(x, axis=-1)\n",
    "    waveform = x\n",
    "    x = get_mel_spectrogram(x, sample_rate)\n",
    "\n",
    "    max_frames = 124\n",
    "    pad_size = max_frames - x.shape[1]\n",
    "    if pad_size > 0:\n",
    "        x = tf.pad(x, [[0, 0], [0, pad_size], [0, 0], [0, 0]])\n",
    "    else:\n",
    "        x = x[:, :max_frames, :, :]\n",
    "\n",
    "    predictions = model.predict(x)\n",
    "    predicted_label_index = tf.argmax(predictions[0])\n",
    "    label_names = get_label_names()\n",
    "    predicted_label = label_names[predicted_label_index]\n",
    "\n",
    "    return predicted_label, tf.nn.softmax(predictions[0])[predicted_label_index]"
   ]
  },
  {
   "cell_type": "code",
   "execution_count": 54,
   "metadata": {},
   "outputs": [
    {
     "name": "stdout",
     "output_type": "stream",
     "text": [
      "Recording...\n",
      "Finished recording.\n"
     ]
    }
   ],
   "source": [
    "audio_file = record_audio('output.wav', 2)"
   ]
  },
  {
   "cell_type": "code",
   "execution_count": 55,
   "metadata": {},
   "outputs": [
    {
     "name": "stdout",
     "output_type": "stream",
     "text": [
      "\n",
      "Audio Properties for output.wav\n",
      "Number of channels:  1\n",
      "Sample rate (Hz):    16000\n",
      "Number of frames:    31744\n",
      "Duration (s):        1.984\n",
      "\n"
     ]
    },
    {
     "data": {
      "text/html": [
       "\n",
       "                <audio  controls=\"controls\" >\n",
       "                    <source src=\"data:audio/wav;base64,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\" type=\"audio/wav\" />\n",
       "                    Your browser does not support the audio element.\n",
       "                </audio>\n",
       "              "
      ],
      "text/plain": [
       "<IPython.lib.display.Audio object>"
      ]
     },
     "metadata": {},
     "output_type": "display_data"
    }
   ],
   "source": [
    "# Print audio properties\n",
    "print_audio_properties(audio_file)"
   ]
  },
  {
   "cell_type": "code",
   "execution_count": 56,
   "metadata": {},
   "outputs": [
    {
     "name": "stdout",
     "output_type": "stream",
     "text": [
      "1/1 [==============================] - 0s 120ms/step\n",
      "Predicted label: gaali, Probability: 0.5648791193962097\n"
     ]
    }
   ],
   "source": [
    "\n",
    "predicted_label, probability = predict_audio(audio_file, model, SAMPLE_RATE)\n",
    "print(f\"Predicted label: {predicted_label}, Probability: {probability}\")"
   ]
  },
  {
   "cell_type": "code",
   "execution_count": null,
   "metadata": {},
   "outputs": [],
   "source": []
  }
 ],
 "metadata": {
  "kernelspec": {
   "display_name": "Python 3 (ipykernel)",
   "language": "python",
   "name": "python3"
  },
  "language_info": {
   "codemirror_mode": {
    "name": "ipython",
    "version": 3
   },
   "file_extension": ".py",
   "mimetype": "text/x-python",
   "name": "python",
   "nbconvert_exporter": "python",
   "pygments_lexer": "ipython3",
   "version": "3.10.4"
  }
 },
 "nbformat": 4,
 "nbformat_minor": 4
}
