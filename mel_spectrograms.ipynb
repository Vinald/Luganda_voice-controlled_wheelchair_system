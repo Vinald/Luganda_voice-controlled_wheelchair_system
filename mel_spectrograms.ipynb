{
 "cells": [
  {
   "cell_type": "markdown",
   "metadata": {},
   "source": [
    "# Libraries and Packages"
   ]
  },
  {
   "cell_type": "code",
   "execution_count": 2,
   "metadata": {},
   "outputs": [],
   "source": [
    "from packages.lib import *"
   ]
  },
  {
   "cell_type": "markdown",
   "metadata": {},
   "source": [
    "# Path to the datasets\n",
    "\n",
    "The dataset's audio clips are of 6 classes and stored in 6 folders corresponding to each speech command: \n",
    "- `ddyo`- `kkono` - `mumaaso` - `emabega` - `yimirira` - `unknown`"
   ]
  },
  {
   "cell_type": "code",
   "execution_count": 3,
   "metadata": {},
   "outputs": [],
   "source": [
    "from packages.dataset_path import *"
   ]
  },
  {
   "cell_type": "code",
   "execution_count": null,
   "metadata": {},
   "outputs": [],
   "source": [
    "# Sample of original audio files\n",
    "emabega_file_path = os.path.join(train_data_dir, 'emabega', 'emabega_001.wav')\n",
    "ddyo_file_path = os.path.join(train_data_dir, 'ddyo', 'ddyo_001.wav')\n",
    "yimirira_file_path = os.path.join(train_data_dir, 'yimirira', 'yimirira_015.wav')\n",
    "kkono_file_path = os.path.join(train_data_dir, 'kkono', 'kkono_001.wav')\n",
    "mumasso_file_path = os.path.join(train_data_dir, 'mumaaso', 'mumaaso_014.wav')\n",
    "file_paths = [emabega_file_path, ddyo_file_path, yimirira_file_path, kkono_file_path, mumasso_file_path]\n",
    "\n",
    "\n",
    "# Sample of Pitch scaled audio files\n",
    "emabega_file_path_pitched = os.path.join(aug_train_data_dir, 'emabega', 'emabega_001_pitched.wav')\n",
    "ddyo_file_path_pitched = os.path.join(aug_train_data_dir, 'ddyo', 'ddyo_001_pitched.wav')\n",
    "yimirira_file_path_pitched = os.path.join(aug_train_data_dir, 'yimirira', 'yimirira_015_pitched.wav')\n",
    "kkono_file_path_pitched = os.path.join(aug_train_data_dir, 'kkono', 'kkono_001_pitched.wav')\n",
    "mumasso_file_path_pitched = os.path.join(aug_train_data_dir, 'mumaaso', 'mumaaso_014_pitched.wav')\n",
    "file_paths_pitched = [emabega_file_path_pitched, ddyo_file_path_pitched, yimirira_file_path_pitched, kkono_file_path_pitched, mumasso_file_path_pitched]\n",
    "\n",
    "\n",
    "# Sample of Noisy audio files\n",
    "emabega_file_path_noisy = os.path.join(aug_train_data_dir, 'emabega', 'emabega_001_noisy.wav')\n",
    "ddyo_file_path_noisy = os.path.join(aug_train_data_dir, 'ddyo', 'ddyo_001_noisy.wav')\n",
    "yimirira_file_path_noisy = os.path.join(aug_train_data_dir, 'yimirira', 'yimirira_015_noisy.wav')\n",
    "kkono_file_path_noisy = os.path.join(aug_train_data_dir, 'kkono', 'kkono_001_noisy.wav')\n",
    "mumasso_file_path_noisy = os.path.join(aug_train_data_dir, 'mumaaso', 'mumaaso_014_noisy.wav')\n",
    "file_paths_noisy = [emabega_file_path_noisy, ddyo_file_path_noisy, yimirira_file_path_noisy, kkono_file_path_noisy, mumasso_file_path_noisy]\n",
    "\n",
    "\n",
    "# Path for the six audios\n",
    "gaali_file_path = os.path.join(ww_train_data_dir, 'gaali', 'gaali_001.wav')\n",
    "file_path_for_6_audios = [emabega_file_path, ddyo_file_path, yimirira_file_path, kkono_file_path, mumasso_file_path, gaali_file_path]\n"
   ]
  },
  {
   "cell_type": "code",
   "execution_count": null,
   "metadata": {},
   "outputs": [],
   "source": [
    "\n",
    "# Plot the model and save to file\n",
    "plot_model(model_instance, to_file='model_architecture_2.png', show_shapes=True, show_layer_names=True)"
   ]
  }
 ],
 "metadata": {
  "kernelspec": {
   "display_name": "allenv",
   "language": "python",
   "name": "python3"
  },
  "language_info": {
   "codemirror_mode": {
    "name": "ipython",
    "version": 3
   },
   "file_extension": ".py",
   "mimetype": "text/x-python",
   "name": "python",
   "nbconvert_exporter": "python",
   "pygments_lexer": "ipython3",
   "version": "3.11.6"
  }
 },
 "nbformat": 4,
 "nbformat_minor": 2
}
