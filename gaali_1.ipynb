{
 "cells": [
  {
   "cell_type": "markdown",
   "metadata": {},
   "source": [
    "# Packages, Libraries, and Constants\n",
    "- Different packages, Libraries\n",
    "\n",
    "- Different constants and parameters"
   ]
  },
  {
   "cell_type": "code",
   "execution_count": 1,
   "metadata": {},
   "outputs": [],
   "source": [
    "from packages.common_packages import *"
   ]
  },
  {
   "cell_type": "markdown",
   "metadata": {},
   "source": [
    "# Path to the datasets\n",
    "\n",
    "1. Wake-word (WW) Dataset\n",
    " - `no_gaali` - `gaali`\n",
    "\n",
    "2. Datasets\n",
    "- `Augmented train data` - `Original train data` - `Test data`\n"
   ]
  },
  {
   "cell_type": "code",
   "execution_count": 2,
   "metadata": {},
   "outputs": [],
   "source": [
    "from packages.dataset_path import *"
   ]
  },
  {
   "cell_type": "markdown",
   "metadata": {},
   "source": [
    "## Directory Labels"
   ]
  },
  {
   "cell_type": "code",
   "execution_count": 3,
   "metadata": {},
   "outputs": [],
   "source": [
    "from packages.utils import list_directory_contents"
   ]
  },
  {
   "cell_type": "code",
   "execution_count": 4,
   "metadata": {},
   "outputs": [
    {
     "name": "stdout",
     "output_type": "stream",
     "text": [
      "Train commands labels: ['no_gaali' 'gaali']\n",
      "Test commands labels: ['no_gaali' 'gaali']\n"
     ]
    }
   ],
   "source": [
    "train_commands = list_directory_contents(ww_train_data_dir, 'Train')\n",
    "test_commands = list_directory_contents(ww_test_data_dir, 'Test')"
   ]
  },
  {
   "cell_type": "markdown",
   "metadata": {},
   "source": [
    "# Dataset Pre-processing"
   ]
  },
  {
   "cell_type": "markdown",
   "metadata": {},
   "source": [
    "## 1. Train and validation Datasets\n",
    "\n",
    "- `Creating the Train and Validate Datasets`"
   ]
  },
  {
   "cell_type": "code",
   "execution_count": 5,
   "metadata": {},
   "outputs": [],
   "source": [
    "from packages.data_processing import create_train_val_audio_dataset"
   ]
  },
  {
   "cell_type": "code",
   "execution_count": 6,
   "metadata": {},
   "outputs": [
    {
     "name": "stdout",
     "output_type": "stream",
     "text": [
      "Found 2834 files belonging to 2 classes.\n",
      "Using 2268 files for training.\n",
      "Using 566 files for validation.\n",
      "Audio Shape: (32, 16000)\n",
      "Label Shape: (32,)\n",
      "Labels: ['gaali' 'no_gaali']\n"
     ]
    }
   ],
   "source": [
    "train_ds, val_ds, label_names = create_train_val_audio_dataset(ww_train_data_dir)\n",
    "print(f'Labels: {label_names}')"
   ]
  },
  {
   "cell_type": "markdown",
   "metadata": {},
   "source": [
    "## 2. Test dataset"
   ]
  },
  {
   "cell_type": "code",
   "execution_count": 7,
   "metadata": {},
   "outputs": [],
   "source": [
    "from packages.data_processing import create_test_audio_dataset"
   ]
  },
  {
   "cell_type": "code",
   "execution_count": 8,
   "metadata": {},
   "outputs": [
    {
     "name": "stdout",
     "output_type": "stream",
     "text": [
      "Found 644 files belonging to 2 classes.\n"
     ]
    },
    {
     "name": "stdout",
     "output_type": "stream",
     "text": [
      "Audio Shape: (32, 16000)\n",
      "Label Shape: (32,)\n"
     ]
    }
   ],
   "source": [
    "test_ds = create_test_audio_dataset(ww_test_data_dir)"
   ]
  },
  {
   "cell_type": "markdown",
   "metadata": {},
   "source": [
    "# Data Processing\n",
    "\n",
    "- `Feature Extraction`"
   ]
  },
  {
   "cell_type": "code",
   "execution_count": 9,
   "metadata": {},
   "outputs": [],
   "source": [
    "from packages.data_processing import preprocess_melspec_audio_datasets"
   ]
  },
  {
   "cell_type": "code",
   "execution_count": 10,
   "metadata": {},
   "outputs": [],
   "source": [
    "train_mel_spec_ds, val_mel_spec_ds, test_mel_spec_ds = preprocess_melspec_audio_datasets(train_ds, val_ds, test_ds)"
   ]
  },
  {
   "cell_type": "markdown",
   "metadata": {},
   "source": [
    "### Shape consistency"
   ]
  },
  {
   "cell_type": "code",
   "execution_count": 11,
   "metadata": {},
   "outputs": [
    {
     "name": "stdout",
     "output_type": "stream",
     "text": [
      "(TensorSpec(shape=(None, 124, 128, 1), dtype=tf.float32, name=None), TensorSpec(shape=(None,), dtype=tf.int32, name=None))\n",
      "(TensorSpec(shape=(None, 124, 128, 1), dtype=tf.float32, name=None), TensorSpec(shape=(None,), dtype=tf.int32, name=None))\n",
      "(TensorSpec(shape=(None, 124, 128, 1), dtype=tf.float32, name=None), TensorSpec(shape=(None,), dtype=tf.int32, name=None))\n"
     ]
    }
   ],
   "source": [
    "print(train_mel_spec_ds.element_spec)\n",
    "print(val_mel_spec_ds.element_spec)\n",
    "print(test_mel_spec_ds.element_spec)"
   ]
  },
  {
   "cell_type": "markdown",
   "metadata": {},
   "source": [
    "# Model 1"
   ]
  },
  {
   "cell_type": "markdown",
   "metadata": {},
   "source": [
    "### Input shape "
   ]
  },
  {
   "cell_type": "code",
   "execution_count": 12,
   "metadata": {},
   "outputs": [
    {
     "name": "stdout",
     "output_type": "stream",
     "text": [
      "Input shape: (124, 128, 1)\n",
      "Labels ['gaali' 'no_gaali']\n"
     ]
    }
   ],
   "source": [
    "example_spectrograms = next(iter(train_mel_spec_ds))[0]\n",
    "input_shape = example_spectrograms.shape[1:]\n",
    "print('Input shape:', input_shape)\n",
    "\n",
    "num_labels = len(label_names)\n",
    "print(f'Labels {label_names}')"
   ]
  },
  {
   "cell_type": "code",
   "execution_count": 13,
   "metadata": {},
   "outputs": [],
   "source": [
    "from packages.model import model"
   ]
  },
  {
   "cell_type": "markdown",
   "metadata": {},
   "source": [
    "### Model Architecture"
   ]
  },
  {
   "cell_type": "code",
   "execution_count": 14,
   "metadata": {},
   "outputs": [
    {
     "data": {
      "text/html": [
       "<pre style=\"white-space:pre;overflow-x:auto;line-height:normal;font-family:Menlo,'DejaVu Sans Mono',consolas,'Courier New',monospace\"><span style=\"font-weight: bold\">Model: \"sequential\"</span>\n",
       "</pre>\n"
      ],
      "text/plain": [
       "\u001b[1mModel: \"sequential\"\u001b[0m\n"
      ]
     },
     "metadata": {},
     "output_type": "display_data"
    },
    {
     "data": {
      "text/html": [
       "<pre style=\"white-space:pre;overflow-x:auto;line-height:normal;font-family:Menlo,'DejaVu Sans Mono',consolas,'Courier New',monospace\">┏━━━━━━━━━━━━━━━━━━━━━━━━━━━━━━━━━┳━━━━━━━━━━━━━━━━━━━━━━━━┳━━━━━━━━━━━━━━━┓\n",
       "┃<span style=\"font-weight: bold\"> Layer (type)                    </span>┃<span style=\"font-weight: bold\"> Output Shape           </span>┃<span style=\"font-weight: bold\">       Param # </span>┃\n",
       "┡━━━━━━━━━━━━━━━━━━━━━━━━━━━━━━━━━╇━━━━━━━━━━━━━━━━━━━━━━━━╇━━━━━━━━━━━━━━━┩\n",
       "│ conv2d (<span style=\"color: #0087ff; text-decoration-color: #0087ff\">Conv2D</span>)                 │ (<span style=\"color: #00d7ff; text-decoration-color: #00d7ff\">None</span>, <span style=\"color: #00af00; text-decoration-color: #00af00\">124</span>, <span style=\"color: #00af00; text-decoration-color: #00af00\">128</span>, <span style=\"color: #00af00; text-decoration-color: #00af00\">16</span>)   │           <span style=\"color: #00af00; text-decoration-color: #00af00\">160</span> │\n",
       "├─────────────────────────────────┼────────────────────────┼───────────────┤\n",
       "│ max_pooling2d (<span style=\"color: #0087ff; text-decoration-color: #0087ff\">MaxPooling2D</span>)    │ (<span style=\"color: #00d7ff; text-decoration-color: #00d7ff\">None</span>, <span style=\"color: #00af00; text-decoration-color: #00af00\">62</span>, <span style=\"color: #00af00; text-decoration-color: #00af00\">64</span>, <span style=\"color: #00af00; text-decoration-color: #00af00\">16</span>)     │             <span style=\"color: #00af00; text-decoration-color: #00af00\">0</span> │\n",
       "├─────────────────────────────────┼────────────────────────┼───────────────┤\n",
       "│ conv2d_1 (<span style=\"color: #0087ff; text-decoration-color: #0087ff\">Conv2D</span>)               │ (<span style=\"color: #00d7ff; text-decoration-color: #00d7ff\">None</span>, <span style=\"color: #00af00; text-decoration-color: #00af00\">62</span>, <span style=\"color: #00af00; text-decoration-color: #00af00\">64</span>, <span style=\"color: #00af00; text-decoration-color: #00af00\">32</span>)     │         <span style=\"color: #00af00; text-decoration-color: #00af00\">4,640</span> │\n",
       "├─────────────────────────────────┼────────────────────────┼───────────────┤\n",
       "│ max_pooling2d_1 (<span style=\"color: #0087ff; text-decoration-color: #0087ff\">MaxPooling2D</span>)  │ (<span style=\"color: #00d7ff; text-decoration-color: #00d7ff\">None</span>, <span style=\"color: #00af00; text-decoration-color: #00af00\">31</span>, <span style=\"color: #00af00; text-decoration-color: #00af00\">32</span>, <span style=\"color: #00af00; text-decoration-color: #00af00\">32</span>)     │             <span style=\"color: #00af00; text-decoration-color: #00af00\">0</span> │\n",
       "├─────────────────────────────────┼────────────────────────┼───────────────┤\n",
       "│ conv2d_2 (<span style=\"color: #0087ff; text-decoration-color: #0087ff\">Conv2D</span>)               │ (<span style=\"color: #00d7ff; text-decoration-color: #00d7ff\">None</span>, <span style=\"color: #00af00; text-decoration-color: #00af00\">31</span>, <span style=\"color: #00af00; text-decoration-color: #00af00\">32</span>, <span style=\"color: #00af00; text-decoration-color: #00af00\">64</span>)     │        <span style=\"color: #00af00; text-decoration-color: #00af00\">18,496</span> │\n",
       "├─────────────────────────────────┼────────────────────────┼───────────────┤\n",
       "│ max_pooling2d_2 (<span style=\"color: #0087ff; text-decoration-color: #0087ff\">MaxPooling2D</span>)  │ (<span style=\"color: #00d7ff; text-decoration-color: #00d7ff\">None</span>, <span style=\"color: #00af00; text-decoration-color: #00af00\">15</span>, <span style=\"color: #00af00; text-decoration-color: #00af00\">16</span>, <span style=\"color: #00af00; text-decoration-color: #00af00\">64</span>)     │             <span style=\"color: #00af00; text-decoration-color: #00af00\">0</span> │\n",
       "├─────────────────────────────────┼────────────────────────┼───────────────┤\n",
       "│ conv2d_3 (<span style=\"color: #0087ff; text-decoration-color: #0087ff\">Conv2D</span>)               │ (<span style=\"color: #00d7ff; text-decoration-color: #00d7ff\">None</span>, <span style=\"color: #00af00; text-decoration-color: #00af00\">15</span>, <span style=\"color: #00af00; text-decoration-color: #00af00\">16</span>, <span style=\"color: #00af00; text-decoration-color: #00af00\">128</span>)    │        <span style=\"color: #00af00; text-decoration-color: #00af00\">73,856</span> │\n",
       "├─────────────────────────────────┼────────────────────────┼───────────────┤\n",
       "│ global_max_pooling2d            │ (<span style=\"color: #00d7ff; text-decoration-color: #00d7ff\">None</span>, <span style=\"color: #00af00; text-decoration-color: #00af00\">128</span>)            │             <span style=\"color: #00af00; text-decoration-color: #00af00\">0</span> │\n",
       "│ (<span style=\"color: #0087ff; text-decoration-color: #0087ff\">GlobalMaxPooling2D</span>)            │                        │               │\n",
       "├─────────────────────────────────┼────────────────────────┼───────────────┤\n",
       "│ dense (<span style=\"color: #0087ff; text-decoration-color: #0087ff\">Dense</span>)                   │ (<span style=\"color: #00d7ff; text-decoration-color: #00d7ff\">None</span>, <span style=\"color: #00af00; text-decoration-color: #00af00\">128</span>)            │        <span style=\"color: #00af00; text-decoration-color: #00af00\">16,512</span> │\n",
       "├─────────────────────────────────┼────────────────────────┼───────────────┤\n",
       "│ dropout (<span style=\"color: #0087ff; text-decoration-color: #0087ff\">Dropout</span>)               │ (<span style=\"color: #00d7ff; text-decoration-color: #00d7ff\">None</span>, <span style=\"color: #00af00; text-decoration-color: #00af00\">128</span>)            │             <span style=\"color: #00af00; text-decoration-color: #00af00\">0</span> │\n",
       "├─────────────────────────────────┼────────────────────────┼───────────────┤\n",
       "│ dense_1 (<span style=\"color: #0087ff; text-decoration-color: #0087ff\">Dense</span>)                 │ (<span style=\"color: #00d7ff; text-decoration-color: #00d7ff\">None</span>, <span style=\"color: #00af00; text-decoration-color: #00af00\">2</span>)              │           <span style=\"color: #00af00; text-decoration-color: #00af00\">258</span> │\n",
       "└─────────────────────────────────┴────────────────────────┴───────────────┘\n",
       "</pre>\n"
      ],
      "text/plain": [
       "┏━━━━━━━━━━━━━━━━━━━━━━━━━━━━━━━━━┳━━━━━━━━━━━━━━━━━━━━━━━━┳━━━━━━━━━━━━━━━┓\n",
       "┃\u001b[1m \u001b[0m\u001b[1mLayer (type)                   \u001b[0m\u001b[1m \u001b[0m┃\u001b[1m \u001b[0m\u001b[1mOutput Shape          \u001b[0m\u001b[1m \u001b[0m┃\u001b[1m \u001b[0m\u001b[1m      Param #\u001b[0m\u001b[1m \u001b[0m┃\n",
       "┡━━━━━━━━━━━━━━━━━━━━━━━━━━━━━━━━━╇━━━━━━━━━━━━━━━━━━━━━━━━╇━━━━━━━━━━━━━━━┩\n",
       "│ conv2d (\u001b[38;5;33mConv2D\u001b[0m)                 │ (\u001b[38;5;45mNone\u001b[0m, \u001b[38;5;34m124\u001b[0m, \u001b[38;5;34m128\u001b[0m, \u001b[38;5;34m16\u001b[0m)   │           \u001b[38;5;34m160\u001b[0m │\n",
       "├─────────────────────────────────┼────────────────────────┼───────────────┤\n",
       "│ max_pooling2d (\u001b[38;5;33mMaxPooling2D\u001b[0m)    │ (\u001b[38;5;45mNone\u001b[0m, \u001b[38;5;34m62\u001b[0m, \u001b[38;5;34m64\u001b[0m, \u001b[38;5;34m16\u001b[0m)     │             \u001b[38;5;34m0\u001b[0m │\n",
       "├─────────────────────────────────┼────────────────────────┼───────────────┤\n",
       "│ conv2d_1 (\u001b[38;5;33mConv2D\u001b[0m)               │ (\u001b[38;5;45mNone\u001b[0m, \u001b[38;5;34m62\u001b[0m, \u001b[38;5;34m64\u001b[0m, \u001b[38;5;34m32\u001b[0m)     │         \u001b[38;5;34m4,640\u001b[0m │\n",
       "├─────────────────────────────────┼────────────────────────┼───────────────┤\n",
       "│ max_pooling2d_1 (\u001b[38;5;33mMaxPooling2D\u001b[0m)  │ (\u001b[38;5;45mNone\u001b[0m, \u001b[38;5;34m31\u001b[0m, \u001b[38;5;34m32\u001b[0m, \u001b[38;5;34m32\u001b[0m)     │             \u001b[38;5;34m0\u001b[0m │\n",
       "├─────────────────────────────────┼────────────────────────┼───────────────┤\n",
       "│ conv2d_2 (\u001b[38;5;33mConv2D\u001b[0m)               │ (\u001b[38;5;45mNone\u001b[0m, \u001b[38;5;34m31\u001b[0m, \u001b[38;5;34m32\u001b[0m, \u001b[38;5;34m64\u001b[0m)     │        \u001b[38;5;34m18,496\u001b[0m │\n",
       "├─────────────────────────────────┼────────────────────────┼───────────────┤\n",
       "│ max_pooling2d_2 (\u001b[38;5;33mMaxPooling2D\u001b[0m)  │ (\u001b[38;5;45mNone\u001b[0m, \u001b[38;5;34m15\u001b[0m, \u001b[38;5;34m16\u001b[0m, \u001b[38;5;34m64\u001b[0m)     │             \u001b[38;5;34m0\u001b[0m │\n",
       "├─────────────────────────────────┼────────────────────────┼───────────────┤\n",
       "│ conv2d_3 (\u001b[38;5;33mConv2D\u001b[0m)               │ (\u001b[38;5;45mNone\u001b[0m, \u001b[38;5;34m15\u001b[0m, \u001b[38;5;34m16\u001b[0m, \u001b[38;5;34m128\u001b[0m)    │        \u001b[38;5;34m73,856\u001b[0m │\n",
       "├─────────────────────────────────┼────────────────────────┼───────────────┤\n",
       "│ global_max_pooling2d            │ (\u001b[38;5;45mNone\u001b[0m, \u001b[38;5;34m128\u001b[0m)            │             \u001b[38;5;34m0\u001b[0m │\n",
       "│ (\u001b[38;5;33mGlobalMaxPooling2D\u001b[0m)            │                        │               │\n",
       "├─────────────────────────────────┼────────────────────────┼───────────────┤\n",
       "│ dense (\u001b[38;5;33mDense\u001b[0m)                   │ (\u001b[38;5;45mNone\u001b[0m, \u001b[38;5;34m128\u001b[0m)            │        \u001b[38;5;34m16,512\u001b[0m │\n",
       "├─────────────────────────────────┼────────────────────────┼───────────────┤\n",
       "│ dropout (\u001b[38;5;33mDropout\u001b[0m)               │ (\u001b[38;5;45mNone\u001b[0m, \u001b[38;5;34m128\u001b[0m)            │             \u001b[38;5;34m0\u001b[0m │\n",
       "├─────────────────────────────────┼────────────────────────┼───────────────┤\n",
       "│ dense_1 (\u001b[38;5;33mDense\u001b[0m)                 │ (\u001b[38;5;45mNone\u001b[0m, \u001b[38;5;34m2\u001b[0m)              │           \u001b[38;5;34m258\u001b[0m │\n",
       "└─────────────────────────────────┴────────────────────────┴───────────────┘\n"
      ]
     },
     "metadata": {},
     "output_type": "display_data"
    },
    {
     "data": {
      "text/html": [
       "<pre style=\"white-space:pre;overflow-x:auto;line-height:normal;font-family:Menlo,'DejaVu Sans Mono',consolas,'Courier New',monospace\"><span style=\"font-weight: bold\"> Total params: </span><span style=\"color: #00af00; text-decoration-color: #00af00\">113,922</span> (445.01 KB)\n",
       "</pre>\n"
      ],
      "text/plain": [
       "\u001b[1m Total params: \u001b[0m\u001b[38;5;34m113,922\u001b[0m (445.01 KB)\n"
      ]
     },
     "metadata": {},
     "output_type": "display_data"
    },
    {
     "data": {
      "text/html": [
       "<pre style=\"white-space:pre;overflow-x:auto;line-height:normal;font-family:Menlo,'DejaVu Sans Mono',consolas,'Courier New',monospace\"><span style=\"font-weight: bold\"> Trainable params: </span><span style=\"color: #00af00; text-decoration-color: #00af00\">113,922</span> (445.01 KB)\n",
       "</pre>\n"
      ],
      "text/plain": [
       "\u001b[1m Trainable params: \u001b[0m\u001b[38;5;34m113,922\u001b[0m (445.01 KB)\n"
      ]
     },
     "metadata": {},
     "output_type": "display_data"
    },
    {
     "data": {
      "text/html": [
       "<pre style=\"white-space:pre;overflow-x:auto;line-height:normal;font-family:Menlo,'DejaVu Sans Mono',consolas,'Courier New',monospace\"><span style=\"font-weight: bold\"> Non-trainable params: </span><span style=\"color: #00af00; text-decoration-color: #00af00\">0</span> (0.00 B)\n",
       "</pre>\n"
      ],
      "text/plain": [
       "\u001b[1m Non-trainable params: \u001b[0m\u001b[38;5;34m0\u001b[0m (0.00 B)\n"
      ]
     },
     "metadata": {},
     "output_type": "display_data"
    }
   ],
   "source": [
    "model = model(input_shape, num_labels)\n",
    "model.summary()"
   ]
  },
  {
   "cell_type": "markdown",
   "metadata": {},
   "source": [
    "### Compile and Train the model"
   ]
  },
  {
   "cell_type": "code",
   "execution_count": 15,
   "metadata": {},
   "outputs": [],
   "source": [
    "from packages.model import compile_and_train_model"
   ]
  },
  {
   "cell_type": "code",
   "execution_count": 16,
   "metadata": {},
   "outputs": [
    {
     "name": "stdout",
     "output_type": "stream",
     "text": [
      "Epoch 1/5\n"
     ]
    },
    {
     "name": "stdout",
     "output_type": "stream",
     "text": [
      "\u001b[1m71/71\u001b[0m \u001b[32m━━━━━━━━━━━━━━━━━━━━\u001b[0m\u001b[37m\u001b[0m \u001b[1m29s\u001b[0m 371ms/step - accuracy: 0.7170 - loss: 0.5715 - val_accuracy: 0.8746 - val_loss: 0.2497 - learning_rate: 0.0010\n",
      "Epoch 2/5\n",
      "\u001b[1m71/71\u001b[0m \u001b[32m━━━━━━━━━━━━━━━━━━━━\u001b[0m\u001b[37m\u001b[0m \u001b[1m27s\u001b[0m 381ms/step - accuracy: 0.9236 - loss: 0.2111 - val_accuracy: 0.9611 - val_loss: 0.0951 - learning_rate: 0.0010\n",
      "Epoch 3/5\n",
      "\u001b[1m71/71\u001b[0m \u001b[32m━━━━━━━━━━━━━━━━━━━━\u001b[0m\u001b[37m\u001b[0m \u001b[1m26s\u001b[0m 364ms/step - accuracy: 0.9627 - loss: 0.1226 - val_accuracy: 0.9770 - val_loss: 0.0596 - learning_rate: 0.0010\n",
      "Epoch 4/5\n",
      "\u001b[1m71/71\u001b[0m \u001b[32m━━━━━━━━━━━━━━━━━━━━\u001b[0m\u001b[37m\u001b[0m \u001b[1m28s\u001b[0m 389ms/step - accuracy: 0.9711 - loss: 0.0861 - val_accuracy: 0.9859 - val_loss: 0.0423 - learning_rate: 0.0010\n",
      "Epoch 5/5\n",
      "\u001b[1m71/71\u001b[0m \u001b[32m━━━━━━━━━━━━━━━━━━━━\u001b[0m\u001b[37m\u001b[0m \u001b[1m27s\u001b[0m 380ms/step - accuracy: 0.9834 - loss: 0.0601 - val_accuracy: 0.9841 - val_loss: 0.0412 - learning_rate: 0.0010\n"
     ]
    }
   ],
   "source": [
    "history = compile_and_train_model(model, train_mel_spec_ds, val_mel_spec_ds)"
   ]
  },
  {
   "cell_type": "markdown",
   "metadata": {},
   "source": [
    "### Plot Accuracy and Loss"
   ]
  },
  {
   "cell_type": "code",
   "execution_count": null,
   "metadata": {},
   "outputs": [],
   "source": [
    "from packages.model_evaluation import plot_training_history"
   ]
  },
  {
   "cell_type": "code",
   "execution_count": null,
   "metadata": {},
   "outputs": [
    {
     "data": {
      "image/png": "[encoded data removed]",
      "text/plain": [
       "<Figure size 1200x400 with 2 Axes>"
      ]
     },
     "metadata": {},
     "output_type": "display_data"
    }
   ],
   "source": [
    "plot_training_history(history)"
   ]
  },
  {
   "cell_type": "markdown",
   "metadata": {},
   "source": [
    "### Evaluate the model performance\n",
    "\n",
    "Run the model on the test set and check the model's performance:"
   ]
  },
  {
   "cell_type": "code",
   "execution_count": 24,
   "metadata": {},
   "outputs": [],
   "source": [
    "# Function to evaluate the model on the test dataset\n",
    "def evaluate_model(model, test_ds):\n",
    "    try:\n",
    "        y_true = []\n",
    "        y_pred = []\n",
    "        for audio, labels in test_ds:\n",
    "            predictions = model.predict(audio, verbose=0)\n",
    "            y_true.extend(labels.numpy())\n",
    "            y_pred.extend(tf.argmax(predictions, axis=1).numpy())\n",
    "\n",
    "        loss, accuracy = model.evaluate(test_ds, verbose=0)\n",
    "        precision = precision_score(y_true, y_pred, average='weighted', zero_division=0)\n",
    "        recall = recall_score(y_true, y_pred, average='weighted', zero_division=0)\n",
    "        f1 = f1_score(y_true, y_pred, average='weighted', zero_division=0)\n",
    "\n",
    "        print(f\"Test accuracy:      {int(accuracy * 100)}%\")\n",
    "        print(f\"Test loss:          {loss}\")\n",
    "        print(f\"Precision:          {precision}\")\n",
    "        print(f\"Recall:             {recall}\")\n",
    "        print(f\"F1-score:           {f1}\")\n",
    "    except Exception as e:\n",
    "        print(f\"An error occurred during model evaluation: {str(e)}\")"
   ]
  },
  {
   "cell_type": "code",
   "execution_count": 25,
   "metadata": {},
   "outputs": [
    {
     "name": "stdout",
     "output_type": "stream",
     "text": [
      "Test accuracy:      98%\n",
      "Test loss:          0.08990566432476044\n",
      "Precision:          0.9817979525640046\n",
      "Recall:             0.9815384615384616\n",
      "F1-score:           0.9815180238909053\n"
     ]
    }
   ],
   "source": [
    "evaluate_model(model, test_mel_spec_ds)"
   ]
  },
  {
   "cell_type": "markdown",
   "metadata": {},
   "source": [
    "## Confusion matrix"
   ]
  },
  {
   "cell_type": "code",
   "execution_count": 26,
   "metadata": {},
   "outputs": [
    {
     "name": "stdout",
     "output_type": "stream",
     "text": [
      "11/11 [==============================] - 1s 77ms/step\n"
     ]
    }
   ],
   "source": [
    "y_pred = model.predict(test_mel_spec_ds)\n",
    "y_pred = tf.argmax(y_pred, axis=1)\n",
    "y_true = tf.concat(list(test_mel_spec_ds.map(lambda s,lab: lab)), axis=0)\n",
    "label_names_slice = ['gaali', 'no_gaali']"
   ]
  },
  {
   "cell_type": "code",
   "execution_count": 27,
   "metadata": {},
   "outputs": [],
   "source": [
    "# Function to plot the confusion matrix\n",
    "def plot_confusion_matrix(y_true, y_pred, label_names):\n",
    "    try:\n",
    "        confusion_mtx = tf.math.confusion_matrix(y_true, y_pred)\n",
    "        plt.figure(figsize=(8, 6))\n",
    "        sns.heatmap(confusion_mtx,\n",
    "                    xticklabels=label_names,\n",
    "                    yticklabels=label_names,\n",
    "                    annot=True, fmt='g')\n",
    "        plt.xlabel('Prediction')\n",
    "        plt.ylabel('Label')\n",
    "        plt.title('Confusion Matrix')\n",
    "        plt.show()\n",
    "    except Exception as e:\n",
    "        print(f\"An error occurred during plotting the confusion matrix: {str(e)}\")"
   ]
  },
  {
   "cell_type": "code",
   "execution_count": 28,
   "metadata": {},
   "outputs": [
    {
     "data": {
      "image/png": "[encoded data removed]",
      "text/plain": [
       "<Figure size 800x600 with 2 Axes>"
      ]
     },
     "metadata": {},
     "output_type": "display_data"
    }
   ],
   "source": [
    "plot_confusion_matrix(y_true, y_pred, label_names_slice)"
   ]
  },
  {
   "cell_type": "markdown",
   "metadata": {},
   "source": []
  },
  {
   "cell_type": "markdown",
   "metadata": {},
   "source": [
    "## save the Keras model"
   ]
  },
  {
   "cell_type": "code",
   "execution_count": 29,
   "metadata": {},
   "outputs": [],
   "source": [
    "KERAS_MODEL_PATH = \"model/wakeword_model_1.keras\""
   ]
  },
  {
   "cell_type": "code",
   "execution_count": 30,
   "metadata": {},
   "outputs": [],
   "source": [
    "model.save(KERAS_MODEL_PATH)"
   ]
  },
  {
   "cell_type": "markdown",
   "metadata": {},
   "source": [
    "## Size of the keras model"
   ]
  },
  {
   "cell_type": "code",
   "execution_count": 31,
   "metadata": {},
   "outputs": [],
   "source": [
    "# Function to get the file size\n",
    "def get_and_convert_file_size(file_path, unit=None):\n",
    "    size = os.path.getsize(file_path)\n",
    "    if unit == \"KB\":\n",
    "        return print('File size: ' + str(round(size / 1024, 3)) + ' Kilobytes')\n",
    "    elif unit == \"MB\":\n",
    "        return print('File size: ' + str(round(size / (1024 * 1024), 3)) + ' Megabytes')\n",
    "    else:\n",
    "        return print('File size: ' + str(size) + ' bytes')"
   ]
  },
  {
   "cell_type": "code",
   "execution_count": 32,
   "metadata": {},
   "outputs": [
    {
     "name": "stdout",
     "output_type": "stream",
     "text": [
      "File size: 1.352 Megabytes\n"
     ]
    }
   ],
   "source": [
    "keras_model_size = get_and_convert_file_size(KERAS_MODEL_PATH, 'MB')"
   ]
  },
  {
   "cell_type": "markdown",
   "metadata": {},
   "source": [
    "## TFLite Model for model"
   ]
  },
  {
   "cell_type": "code",
   "execution_count": 33,
   "metadata": {},
   "outputs": [
    {
     "name": "stdout",
     "output_type": "stream",
     "text": [
      "INFO:tensorflow:Assets written to: C:\\Users\\vX\\AppData\\Local\\Temp\\tmpq3ppp9fv\\assets\n"
     ]
    },
    {
     "name": "stderr",
     "output_type": "stream",
     "text": [
      "INFO:tensorflow:Assets written to: C:\\Users\\vX\\AppData\\Local\\Temp\\tmpq3ppp9fv\\assets\n"
     ]
    }
   ],
   "source": [
    "tflite_model_path = 'model/wakeword_model_1.tflite'\n",
    "\n",
    "# Convert the model to TensorFlow Lite\n",
    "converter = tf.lite.TFLiteConverter.from_keras_model(model)\n",
    "tflite_model = converter.convert()\n",
    "\n",
    "# Save the TensorFlow Lite model to a file\n",
    "with open(tflite_model_path, 'wb') as f:\n",
    "    f.write(tflite_model)"
   ]
  },
  {
   "cell_type": "code",
   "execution_count": 34,
   "metadata": {},
   "outputs": [],
   "source": [
    "# Load the TensorFlow Lite model:\n",
    "interpreter = tf.lite.Interpreter(model_path=tflite_model_path)\n",
    "interpreter.allocate_tensors()"
   ]
  },
  {
   "cell_type": "code",
   "execution_count": 35,
   "metadata": {},
   "outputs": [
    {
     "name": "stdout",
     "output_type": "stream",
     "text": [
      "Input shape: [  1 124 128   1]\n"
     ]
    }
   ],
   "source": [
    "# input shape\n",
    "input_details = interpreter.get_input_details()\n",
    "input_shape = input_details[0]['shape']\n",
    "print('Input shape:', input_shape)"
   ]
  },
  {
   "cell_type": "code",
   "execution_count": 36,
   "metadata": {},
   "outputs": [
    {
     "name": "stdout",
     "output_type": "stream",
     "text": [
      "Output shape: [1 2]\n"
     ]
    }
   ],
   "source": [
    "# output shape\n",
    "output_details = interpreter.get_output_details()\n",
    "output_shape = output_details[0]['shape']\n",
    "print('Output shape:', output_shape)"
   ]
  },
  {
   "cell_type": "code",
   "execution_count": 37,
   "metadata": {},
   "outputs": [],
   "source": [
    "# Prepare the test dataset \n",
    "test_mel_spec_ds = test_mel_spec_ds.unbatch().batch(1)"
   ]
  },
  {
   "cell_type": "code",
   "execution_count": 38,
   "metadata": {},
   "outputs": [],
   "source": [
    "# Run inference on the test dataset and collect predictions:\n",
    "y_true = []\n",
    "y_pred = []\n",
    "\n",
    "for mel_spectrogram, label in test_mel_spec_ds:\n",
    "    # Perform inference\n",
    "    interpreter.set_tensor(interpreter.get_input_details()[0]['index'], mel_spectrogram)\n",
    "    interpreter.invoke()\n",
    "    output = interpreter.get_tensor(interpreter.get_output_details()[0]['index'])\n",
    "\n",
    "    # Collect predictions\n",
    "    y_true.append(label.numpy()[0])\n",
    "    y_pred.append(np.argmax(output))\n"
   ]
  },
  {
   "cell_type": "code",
   "execution_count": 39,
   "metadata": {},
   "outputs": [
    {
     "name": "stdout",
     "output_type": "stream",
     "text": [
      "Accuracy is 98%\n"
     ]
    }
   ],
   "source": [
    "accuracy = accuracy_score(y_true, y_pred)\n",
    "print(f'Accuracy is {int(accuracy*100)}%')"
   ]
  },
  {
   "cell_type": "code",
   "execution_count": 40,
   "metadata": {},
   "outputs": [
    {
     "data": {
      "image/png": "[encoded data removed]",
      "text/plain": [
       "<Figure size 800x600 with 2 Axes>"
      ]
     },
     "metadata": {},
     "output_type": "display_data"
    }
   ],
   "source": [
    "confusion_mtx = tf.math.confusion_matrix(y_true, y_pred)\n",
    "plt.figure(figsize=(8, 6))\n",
    "sns.heatmap(confusion_mtx,\n",
    "            xticklabels=label_names,\n",
    "            yticklabels=label_names,\n",
    "            annot=True, fmt='g')\n",
    "plt.xlabel('Prediction')\n",
    "plt.ylabel('Label')\n",
    "plt.show()"
   ]
  },
  {
   "cell_type": "code",
   "execution_count": 41,
   "metadata": {},
   "outputs": [
    {
     "name": "stdout",
     "output_type": "stream",
     "text": [
      "File size: 449.48 Kilobytes\n"
     ]
    }
   ],
   "source": [
    "get_and_convert_file_size(tflite_model_path, \"KB\")"
   ]
  },
  {
   "cell_type": "markdown",
   "metadata": {},
   "source": [
    "## Quntized model"
   ]
  },
  {
   "cell_type": "code",
   "execution_count": 42,
   "metadata": {},
   "outputs": [
    {
     "name": "stdout",
     "output_type": "stream",
     "text": [
      "INFO:tensorflow:Assets written to: C:\\Users\\vX\\AppData\\Local\\Temp\\tmpxnbwjohx\\assets\n"
     ]
    },
    {
     "name": "stderr",
     "output_type": "stream",
     "text": [
      "INFO:tensorflow:Assets written to: C:\\Users\\vX\\AppData\\Local\\Temp\\tmpxnbwjohx\\assets\n"
     ]
    }
   ],
   "source": [
    "quantized_tflite_model_path = 'model/Quantized_wakeword_model_1.tflite'\n",
    "\n",
    "# Quantize the TensorFlow Lite model\n",
    "converter.optimizations = [tf.lite.Optimize.DEFAULT]\n",
    "quantized_tflite_model = converter.convert()\n",
    "\n",
    "# Save the quantized TensorFlow Lite model\n",
    "with open(quantized_tflite_model_path, 'wb') as f:\n",
    "    f.write(quantized_tflite_model)\n"
   ]
  },
  {
   "cell_type": "code",
   "execution_count": 43,
   "metadata": {},
   "outputs": [
    {
     "name": "stdout",
     "output_type": "stream",
     "text": [
      "File size: 120.742 Kilobytes\n"
     ]
    }
   ],
   "source": [
    "get_and_convert_file_size(quantized_tflite_model_path, \"KB\")"
   ]
  },
  {
   "cell_type": "code",
   "execution_count": 44,
   "metadata": {},
   "outputs": [
    {
     "name": "stdout",
     "output_type": "stream",
     "text": [
      "Accuracy: 0.9815384615384616\n"
     ]
    }
   ],
   "source": [
    "# Evaluate the model on the test dataset\n",
    "correct = 0\n",
    "total = 0\n",
    "for mel_spectrogram, label in test_mel_spec_ds:\n",
    "    interpreter.set_tensor(input_details[0]['index'], mel_spectrogram)\n",
    "    interpreter.invoke()\n",
    "    output = interpreter.get_tensor(output_details[0]['index'])\n",
    "    predicted_label = np.argmax(output)\n",
    "    correct += bool(predicted_label == label)  # Convert to boolean\n",
    "    total += 1\n",
    "\n",
    "accuracy = correct / total\n",
    "print(f'Accuracy: {accuracy}')\n"
   ]
  },
  {
   "cell_type": "code",
   "execution_count": 45,
   "metadata": {},
   "outputs": [
    {
     "data": {
      "image/png": "[encoded data removed]",
      "text/plain": [
       "<Figure size 800x600 with 2 Axes>"
      ]
     },
     "metadata": {},
     "output_type": "display_data"
    }
   ],
   "source": [
    "# Evaluate the model on the test dataset\n",
    "y_true = []\n",
    "y_pred = []\n",
    "\n",
    "for mel_spectrogram, label in test_mel_spec_ds:\n",
    "    interpreter.set_tensor(input_details[0]['index'], mel_spectrogram)\n",
    "    interpreter.invoke()\n",
    "    output = interpreter.get_tensor(output_details[0]['index'])\n",
    "    predicted_label = np.argmax(output)\n",
    "    y_true.append(label)\n",
    "    y_pred.append(predicted_label)\n",
    "\n",
    "\n",
    "confusion_mtx = tf.math.confusion_matrix(y_true, y_pred)\n",
    "plt.figure(figsize=(8, 6))\n",
    "sns.heatmap(confusion_mtx,\n",
    "            xticklabels=label_names,\n",
    "            yticklabels=label_names,\n",
    "            annot=True, fmt='g')\n",
    "plt.title('Confusion Matrix')\n",
    "plt.xlabel('Prediction')\n",
    "plt.ylabel('Label')\n",
    "plt.show()"
   ]
  },
  {
   "cell_type": "code",
   "execution_count": 46,
   "metadata": {},
   "outputs": [
    {
     "name": "stdout",
     "output_type": "stream",
     "text": [
      "Accuracy is 98%\n"
     ]
    }
   ],
   "source": [
    "accuracy = accuracy_score(y_true, y_pred)\n",
    "print(f'Accuracy is {int(accuracy*100)}%')\n"
   ]
  },
  {
   "cell_type": "markdown",
   "metadata": {},
   "source": [
    "# Inference"
   ]
  },
  {
   "cell_type": "markdown",
   "metadata": {},
   "source": [
    "## Loading the model"
   ]
  },
  {
   "cell_type": "code",
   "execution_count": 47,
   "metadata": {},
   "outputs": [
    {
     "name": "stdout",
     "output_type": "stream",
     "text": [
      "Model loaded successfully.\n"
     ]
    }
   ],
   "source": [
    "try:\n",
    "    model = tf.keras.models.load_model('model/wakeword_model_1.keras')\n",
    "    print(\"Model loaded successfully.\")\n",
    "except Exception as e:\n",
    "    print(\"Error loading model: \", e)"
   ]
  },
  {
   "cell_type": "markdown",
   "metadata": {},
   "source": [
    "## Record and return audio file"
   ]
  },
  {
   "cell_type": "code",
   "execution_count": 48,
   "metadata": {},
   "outputs": [],
   "source": [
    "def record_audio(filename, duration, rate=16000, channels=1, chunk_size=1024):\n",
    "    p = pyaudio.PyAudio()\n",
    "\n",
    "    # open stream\n",
    "    stream = p.open(format=pyaudio.paInt16,\n",
    "                    channels=channels,\n",
    "                    rate=rate,\n",
    "                    input=True,\n",
    "                    frames_per_buffer=chunk_size)\n",
    "\n",
    "    print(\"Recording...\")\n",
    "\n",
    "    frames = []\n",
    "\n",
    "    # record for duration\n",
    "    for i in range(0, int(rate / chunk_size * duration)):\n",
    "        data = stream.read(chunk_size)\n",
    "        frames.append(data)\n",
    "\n",
    "    print(\"Finished recording.\")\n",
    "\n",
    "    # stop and close stream\n",
    "    stream.stop_stream()\n",
    "    stream.close()\n",
    "\n",
    "    # terminate pyaudio object\n",
    "    p.terminate()\n",
    "\n",
    "    # save audio file\n",
    "    wf = wave.open(filename, 'wb')\n",
    "    wf.setnchannels(channels)\n",
    "    wf.setsampwidth(p.get_sample_size(pyaudio.paInt16))\n",
    "    wf.setframerate(rate)\n",
    "    wf.writeframes(b''.join(frames))\n",
    "    wf.close()\n",
    "\n",
    "    return filename"
   ]
  },
  {
   "cell_type": "code",
   "execution_count": 49,
   "metadata": {},
   "outputs": [],
   "source": [
    "# Function to print audio properties\n",
    "def print_audio_properties(file_path):\n",
    "    if not os.path.isfile(file_path):\n",
    "        print(f\"File {file_path} does not exist.\")\n",
    "        return\n",
    "\n",
    "    try:\n",
    "        audio_signal, sample_rate = librosa.load(file_path, sr=None)\n",
    "        with wave.open(file_path, 'rb') as audio:\n",
    "            num_channels = audio.getnchannels()\n",
    "            frame_rate = audio.getframerate()\n",
    "            num_frames = audio.getnframes()\n",
    "            duration = num_frames / float(frame_rate)\n",
    "\n",
    "            print(f\"\\nAudio Properties for {os.path.basename(file_path)}\")\n",
    "            print(f\"Number of channels:  {num_channels}\")\n",
    "            print(f\"Sample rate (Hz):    {sample_rate}\")\n",
    "            print(f\"Number of frames:    {num_frames}\")\n",
    "            print(f\"Duration (s):        {duration}\")\n",
    "            print()\n",
    "        \n",
    "        # Play the audio files\n",
    "        audio = Audio(file_path)\n",
    "        display(audio)\n",
    "    except Exception as e:\n",
    "        print(f\"An error occurred while processing the file: {e}\")\n",
    "    return"
   ]
  },
  {
   "cell_type": "markdown",
   "metadata": {},
   "source": [
    "## Feactures"
   ]
  },
  {
   "cell_type": "code",
   "execution_count": 50,
   "metadata": {},
   "outputs": [],
   "source": [
    "FRAME_LENGTH = 255\n",
    "FRAME_STEP = 128\n",
    "N_MELS = 128"
   ]
  },
  {
   "cell_type": "code",
   "execution_count": 51,
   "metadata": {},
   "outputs": [],
   "source": [
    "def get_mel_spectrogram(waveform, sample_rate=SAMPLE_RATE, n_mels=N_MELS):\n",
    "    stft = tf.signal.stft(waveform, frame_length=FRAME_LENGTH, frame_step=FRAME_STEP)\n",
    "    spectrogram = tf.abs(stft)\n",
    "    mel_spectrogram = tf.signal.linear_to_mel_weight_matrix(\n",
    "        num_mel_bins=n_mels,\n",
    "        num_spectrogram_bins=spectrogram.shape[-1],\n",
    "        sample_rate=sample_rate\n",
    "    )\n",
    "    mel_spectrogram = tf.tensordot(spectrogram, mel_spectrogram, 1)\n",
    "    mel_spectrogram = tf.math.log(mel_spectrogram + 1e-6)\n",
    "    mel_spectrogram = tf.reshape(mel_spectrogram, (-1, 124, 128, 1))\n",
    "\n",
    "    return mel_spectrogram"
   ]
  },
  {
   "cell_type": "markdown",
   "metadata": {},
   "source": [
    "## Labels"
   ]
  },
  {
   "cell_type": "code",
   "execution_count": 52,
   "metadata": {},
   "outputs": [],
   "source": [
    "# Function to get the labels\n",
    "def get_label_names():\n",
    "    label_names = ['gaali', 'no_gaali']\n",
    "    return label_names\n"
   ]
  },
  {
   "cell_type": "markdown",
   "metadata": {},
   "source": [
    "## Prediction"
   ]
  },
  {
   "cell_type": "code",
   "execution_count": 53,
   "metadata": {},
   "outputs": [],
   "source": [
    "def predict_audio(file_path, model, sample_rate):\n",
    "    x = tf.io.read_file(str(file_path))\n",
    "    x, _ = tf.audio.decode_wav(x, desired_channels=1, desired_samples=16000)\n",
    "    x = tf.squeeze(x, axis=-1)\n",
    "    waveform = x\n",
    "    x = get_mel_spectrogram(x, sample_rate)\n",
    "\n",
    "    max_frames = 124\n",
    "    pad_size = max_frames - x.shape[1]\n",
    "    if pad_size > 0:\n",
    "        x = tf.pad(x, [[0, 0], [0, pad_size], [0, 0], [0, 0]])\n",
    "    else:\n",
    "        x = x[:, :max_frames, :, :]\n",
    "\n",
    "    predictions = model.predict(x)\n",
    "    predicted_label_index = tf.argmax(predictions[0])\n",
    "    label_names = get_label_names()\n",
    "    predicted_label = label_names[predicted_label_index]\n",
    "\n",
    "    return predicted_label, tf.nn.softmax(predictions[0])[predicted_label_index]"
   ]
  },
  {
   "cell_type": "code",
   "execution_count": 54,
   "metadata": {},
   "outputs": [
    {
     "name": "stdout",
     "output_type": "stream",
     "text": [
      "Recording...\n",
      "Finished recording.\n"
     ]
    }
   ],
   "source": [
    "audio_file = record_audio('output.wav', 2)"
   ]
  },
  {
   "cell_type": "code",
   "execution_count": 55,
   "metadata": {},
   "outputs": [
    {
     "name": "stdout",
     "output_type": "stream",
     "text": [
      "\n",
      "Audio Properties for output.wav\n",
      "Number of channels:  1\n",
      "Sample rate (Hz):    16000\n",
      "Number of frames:    31744\n",
      "Duration (s):        1.984\n",
      "\n"
     ]
    },
    {
     "data": {
      "text/html": [
       "\n",
       "                <audio  controls=\"controls\" >\n",
       "                    <source src=\"data:audio/wav;base64,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\" type=\"audio/wav\" />\n",
       "                    Your browser does not support the audio element.\n",
       "                </audio>\n",
       "              "
      ],
      "text/plain": [
       "<IPython.lib.display.Audio object>"
      ]
     },
     "metadata": {},
     "output_type": "display_data"
    }
   ],
   "source": [
    "# Print audio properties\n",
    "print_audio_properties(audio_file)"
   ]
  },
  {
   "cell_type": "code",
   "execution_count": 56,
   "metadata": {},
   "outputs": [
    {
     "name": "stdout",
     "output_type": "stream",
     "text": [
      "1/1 [==============================] - 0s 174ms/step\n",
      "Predicted label: no_gaali, Probability: 0.6406171917915344\n"
     ]
    }
   ],
   "source": [
    "\n",
    "predicted_label, probability = predict_audio(audio_file, model, SAMPLE_RATE)\n",
    "print(f\"Predicted label: {predicted_label}, Probability: {probability}\")"
   ]
  },
  {
   "cell_type": "code",
   "execution_count": null,
   "metadata": {},
   "outputs": [],
   "source": []
  }
 ],
 "metadata": {
  "kernelspec": {
   "display_name": "Python 3 (ipykernel)",
   "language": "python",
   "name": "python3"
  },
  "language_info": {
   "codemirror_mode": {
    "name": "ipython",
    "version": 3
   },
   "file_extension": ".py",
   "mimetype": "text/x-python",
   "name": "python",
   "nbconvert_exporter": "python",
   "pygments_lexer": "ipython3",
   "version": "3.11.6"
  }
 },
 "nbformat": 4,
 "nbformat_minor": 4
}
